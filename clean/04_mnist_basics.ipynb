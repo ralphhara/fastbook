{
  "cells": [
    {
      "cell_type": "code",
      "execution_count": 1,
      "metadata": {
        "id": "i0TIXYlvlY1q",
        "outputId": "a0d7ada2-f556-47e3-b49b-0458c5e7e287",
        "colab": {
          "base_uri": "https://localhost:8080/"
        }
      },
      "outputs": [
        {
          "output_type": "stream",
          "name": "stdout",
          "text": [
            "Mounted at /content/gdrive\n"
          ]
        }
      ],
      "source": [
        "#hide\n",
        "! [ -e /content ] && pip install -Uqq fastbook\n",
        "import fastbook\n",
        "fastbook.setup_book()"
      ]
    },
    {
      "cell_type": "code",
      "execution_count": 2,
      "metadata": {
        "id": "kctKeM_klY1t"
      },
      "outputs": [],
      "source": [
        "#hide\n",
        "from fastai.vision.all import *\n",
        "from fastbook import *\n",
        "\n",
        "matplotlib.rc('image', cmap='Greys')"
      ]
    },
    {
      "cell_type": "markdown",
      "metadata": {
        "id": "uy-9BX4llY1v"
      },
      "source": [
        "# Under the Hood: Training a Digit Classifier"
      ]
    },
    {
      "cell_type": "markdown",
      "metadata": {
        "id": "QJ7ZruiVlY1x"
      },
      "source": [
        "## Pixels: The Foundations of Computer Vision"
      ]
    },
    {
      "cell_type": "markdown",
      "metadata": {
        "id": "YiH7_gG9lY1x"
      },
      "source": [
        "## Sidebar: Tenacity and Deep Learning"
      ]
    },
    {
      "cell_type": "markdown",
      "metadata": {
        "id": "Pie1gz8UlY1y"
      },
      "source": [
        "## End sidebar"
      ]
    },
    {
      "cell_type": "code",
      "execution_count": null,
      "metadata": {
        "id": "cj3abREUlY1z",
        "outputId": "8e17b8bf-b05f-4601-ed47-61a1d8f8f0db",
        "colab": {
          "base_uri": "https://localhost:8080/",
          "height": 37
        }
      },
      "outputs": [
        {
          "output_type": "display_data",
          "data": {
            "text/plain": [
              "<IPython.core.display.HTML object>"
            ],
            "text/html": [
              "\n",
              "<style>\n",
              "    /* Turns off some styling */\n",
              "    progress {\n",
              "        /* gets rid of default border in Firefox and Opera. */\n",
              "        border: none;\n",
              "        /* Needs to be in here for Safari polyfill so background images work as expected. */\n",
              "        background-size: auto;\n",
              "    }\n",
              "    progress:not([value]), progress:not([value])::-webkit-progress-bar {\n",
              "        background: repeating-linear-gradient(45deg, #7e7e7e, #7e7e7e 10px, #5c5c5c 10px, #5c5c5c 20px);\n",
              "    }\n",
              "    .progress-bar-interrupted, .progress-bar-interrupted::-webkit-progress-bar {\n",
              "        background: #F44336;\n",
              "    }\n",
              "</style>\n"
            ]
          },
          "metadata": {}
        },
        {
          "output_type": "display_data",
          "data": {
            "text/plain": [
              "<IPython.core.display.HTML object>"
            ],
            "text/html": [
              "\n",
              "    <div>\n",
              "      <progress value='3219456' class='' max='3214948' style='width:300px; height:20px; vertical-align: middle;'></progress>\n",
              "      100.14% [3219456/3214948 00:00&lt;00:00]\n",
              "    </div>\n",
              "    "
            ]
          },
          "metadata": {}
        }
      ],
      "source": [
        "path = untar_data(URLs.MNIST_SAMPLE)"
      ]
    },
    {
      "cell_type": "code",
      "execution_count": null,
      "metadata": {
        "id": "iH6_QayRlY1z"
      },
      "outputs": [],
      "source": [
        "#hide\n",
        "Path.BASE_PATH = path"
      ]
    },
    {
      "cell_type": "code",
      "execution_count": null,
      "metadata": {
        "id": "InXhbWSalY10",
        "outputId": "70c3e8b7-e7db-48ab-d237-b3036c7dafe7",
        "colab": {
          "base_uri": "https://localhost:8080/"
        }
      },
      "outputs": [
        {
          "output_type": "execute_result",
          "data": {
            "text/plain": [
              "(#3) [Path('labels.csv'),Path('train'),Path('valid')]"
            ]
          },
          "metadata": {},
          "execution_count": 18
        }
      ],
      "source": [
        "path.ls()"
      ]
    },
    {
      "cell_type": "code",
      "execution_count": null,
      "metadata": {
        "id": "Gdr_OT1-lY10",
        "outputId": "4b9c76bb-41b7-44ad-ad8e-bed123cb8222",
        "colab": {
          "base_uri": "https://localhost:8080/"
        }
      },
      "outputs": [
        {
          "output_type": "execute_result",
          "data": {
            "text/plain": [
              "(#2) [Path('train/7'),Path('train/3')]"
            ]
          },
          "metadata": {},
          "execution_count": 19
        }
      ],
      "source": [
        "(path/'train').ls()"
      ]
    },
    {
      "cell_type": "code",
      "execution_count": null,
      "metadata": {
        "id": "60fNyvSFlY11",
        "outputId": "f156803d-e8c8-4863-8ed9-fbfd38c014e1",
        "colab": {
          "base_uri": "https://localhost:8080/"
        }
      },
      "outputs": [
        {
          "output_type": "execute_result",
          "data": {
            "text/plain": [
              "(#6131) [Path('train/3/10.png'),Path('train/3/10000.png'),Path('train/3/10011.png'),Path('train/3/10031.png'),Path('train/3/10034.png'),Path('train/3/10042.png'),Path('train/3/10052.png'),Path('train/3/1007.png'),Path('train/3/10074.png'),Path('train/3/10091.png')...]"
            ]
          },
          "metadata": {},
          "execution_count": 22
        }
      ],
      "source": [
        "threes = (path/'train'/'3').ls().sorted()\n",
        "sevens = (path/'train'/'7').ls().sorted()\n",
        "threes"
      ]
    },
    {
      "cell_type": "code",
      "source": [
        "sevens"
      ],
      "metadata": {
        "id": "C8aeQqf8w3wU",
        "outputId": "4835ba89-6328-4b31-fc40-c4c8a200965f",
        "colab": {
          "base_uri": "https://localhost:8080/"
        }
      },
      "execution_count": null,
      "outputs": [
        {
          "output_type": "execute_result",
          "data": {
            "text/plain": [
              "(#6265) [Path('train/7/10002.png'),Path('train/7/1001.png'),Path('train/7/10014.png'),Path('train/7/10019.png'),Path('train/7/10039.png'),Path('train/7/10046.png'),Path('train/7/10050.png'),Path('train/7/10063.png'),Path('train/7/10077.png'),Path('train/7/10086.png')...]"
            ]
          },
          "metadata": {},
          "execution_count": 23
        }
      ]
    },
    {
      "cell_type": "code",
      "execution_count": null,
      "metadata": {
        "id": "rl65JUTmlY12",
        "outputId": "ba59761e-28da-4f41-c827-855574928011",
        "colab": {
          "base_uri": "https://localhost:8080/",
          "height": 45
        }
      },
      "outputs": [
        {
          "output_type": "execute_result",
          "data": {
            "text/plain": [
              "<PIL.PngImagePlugin.PngImageFile image mode=L size=28x28>"
            ],
            "image/png": "[encoded data removed]"
          },
          "metadata": {},
          "execution_count": 24
        }
      ],
      "source": [
        "im3_path = threes[1]\n",
        "im3 = Image.open(im3_path)\n",
        "im3"
      ]
    },
    {
      "cell_type": "code",
      "source": [
        "im7_path = sevens[1]\n",
        "im7 = Image.open(im7_path)\n",
        "im7"
      ],
      "metadata": {
        "id": "hg1PwJu7w7Mm",
        "outputId": "7a901c76-ad73-4f21-b345-e741c1eb1e9b",
        "colab": {
          "base_uri": "https://localhost:8080/",
          "height": 45
        }
      },
      "execution_count": null,
      "outputs": [
        {
          "output_type": "execute_result",
          "data": {
            "text/plain": [
              "<PIL.PngImagePlugin.PngImageFile image mode=L size=28x28>"
            ],
            "image/png": "[encoded data removed]"
          },
          "metadata": {},
          "execution_count": 25
        }
      ]
    },
    {
      "cell_type": "code",
      "execution_count": null,
      "metadata": {
        "id": "ytlHOlgLlY13",
        "outputId": "24d94ccc-2b56-4f3d-a570-f242b18d56ae",
        "colab": {
          "base_uri": "https://localhost:8080/"
        }
      },
      "outputs": [
        {
          "output_type": "execute_result",
          "data": {
            "text/plain": [
              "array([[  0,   0,   0,   0,   0,   0],\n",
              "       [  0,   0,   0,   0,   0,  29],\n",
              "       [  0,   0,   0,  48, 166, 224],\n",
              "       [  0,  93, 244, 249, 253, 187],\n",
              "       [  0, 107, 253, 253, 230,  48],\n",
              "       [  0,   3,  20,  20,  15,   0]], dtype=uint8)"
            ]
          },
          "metadata": {},
          "execution_count": 26
        }
      ],
      "source": [
        "array(im3)[4:10,4:10]"
      ]
    },
    {
      "cell_type": "code",
      "source": [
        "array(im7)[4:10,4:10]"
      ],
      "metadata": {
        "id": "S8sSGfXkxJ9_",
        "outputId": "213dd2b8-939b-4c87-f9f2-1ed805a401fd",
        "colab": {
          "base_uri": "https://localhost:8080/"
        }
      },
      "execution_count": null,
      "outputs": [
        {
          "output_type": "execute_result",
          "data": {
            "text/plain": [
              "array([[  0,   0,   0,   0,   0,   0],\n",
              "       [  0,   0,   0,   0,   0,   0],\n",
              "       [  0,   0,   0,   0,   0,   0],\n",
              "       [  0,   0,   0,   0,   0,   0],\n",
              "       [  0,   0,   0,   0,   0,   9],\n",
              "       [  0,   0,   0,   0,   0, 169]], dtype=uint8)"
            ]
          },
          "metadata": {},
          "execution_count": 27
        }
      ]
    },
    {
      "cell_type": "code",
      "execution_count": null,
      "metadata": {
        "id": "DlldwrKglY13",
        "outputId": "2904c03a-9593-4f6b-f5de-c86b15bd22b7",
        "colab": {
          "base_uri": "https://localhost:8080/"
        }
      },
      "outputs": [
        {
          "output_type": "execute_result",
          "data": {
            "text/plain": [
              "tensor([[  0,   0,   0,   0,   0,   0],\n",
              "        [  0,   0,   0,   0,   0,  29],\n",
              "        [  0,   0,   0,  48, 166, 224],\n",
              "        [  0,  93, 244, 249, 253, 187],\n",
              "        [  0, 107, 253, 253, 230,  48],\n",
              "        [  0,   3,  20,  20,  15,   0]], dtype=torch.uint8)"
            ]
          },
          "metadata": {},
          "execution_count": 28
        }
      ],
      "source": [
        "tensor(im3)[4:10,4:10]"
      ]
    },
    {
      "cell_type": "code",
      "source": [
        "tensor(im7)[4:10,4:10]"
      ],
      "metadata": {
        "id": "fiCkTT4hxNev",
        "outputId": "e6cb36da-0e0b-4152-b4a7-fc00ef49d20d",
        "colab": {
          "base_uri": "https://localhost:8080/"
        }
      },
      "execution_count": null,
      "outputs": [
        {
          "output_type": "execute_result",
          "data": {
            "text/plain": [
              "tensor([[  0,   0,   0,   0,   0,   0],\n",
              "        [  0,   0,   0,   0,   0,   0],\n",
              "        [  0,   0,   0,   0,   0,   0],\n",
              "        [  0,   0,   0,   0,   0,   0],\n",
              "        [  0,   0,   0,   0,   0,   9],\n",
              "        [  0,   0,   0,   0,   0, 169]], dtype=torch.uint8)"
            ]
          },
          "metadata": {},
          "execution_count": 29
        }
      ]
    },
    {
      "cell_type": "code",
      "execution_count": null,
      "metadata": {
        "id": "kfcQ_Ur5lY14",
        "outputId": "0b071abf-fc18-4608-93d7-66b40bd8b1d9",
        "colab": {
          "base_uri": "https://localhost:8080/",
          "height": 394
        }
      },
      "outputs": [
        {
          "output_type": "execute_result",
          "data": {
            "text/plain": [
              "<pandas.io.formats.style.Styler at 0x7f56a61b71f0>"
            ],
            "text/html": [
              "<style type=\"text/css\">\n",
              "#T_d50f1_row0_col0, #T_d50f1_row0_col1, #T_d50f1_row0_col2, #T_d50f1_row0_col3, #T_d50f1_row0_col4, #T_d50f1_row0_col5, #T_d50f1_row0_col6, #T_d50f1_row0_col7, #T_d50f1_row0_col8, #T_d50f1_row0_col9, #T_d50f1_row0_col10, #T_d50f1_row0_col11, #T_d50f1_row0_col12, #T_d50f1_row0_col13, #T_d50f1_row0_col14, #T_d50f1_row0_col15, #T_d50f1_row0_col16, #T_d50f1_row0_col17, #T_d50f1_row1_col0, #T_d50f1_row1_col1, #T_d50f1_row1_col2, #T_d50f1_row1_col3, #T_d50f1_row1_col4, #T_d50f1_row1_col15, #T_d50f1_row1_col16, #T_d50f1_row1_col17, #T_d50f1_row2_col0, #T_d50f1_row2_col1, #T_d50f1_row2_col2, #T_d50f1_row2_col15, #T_d50f1_row2_col16, #T_d50f1_row2_col17, #T_d50f1_row3_col0, #T_d50f1_row3_col15, #T_d50f1_row3_col16, #T_d50f1_row3_col17, #T_d50f1_row4_col0, #T_d50f1_row4_col6, #T_d50f1_row4_col7, #T_d50f1_row4_col8, #T_d50f1_row4_col9, #T_d50f1_row4_col10, #T_d50f1_row4_col15, #T_d50f1_row4_col16, #T_d50f1_row4_col17, #T_d50f1_row5_col0, #T_d50f1_row5_col5, #T_d50f1_row5_col6, #T_d50f1_row5_col7, #T_d50f1_row5_col8, #T_d50f1_row5_col9, #T_d50f1_row5_col15, #T_d50f1_row5_col16, #T_d50f1_row5_col17, #T_d50f1_row6_col0, #T_d50f1_row6_col1, #T_d50f1_row6_col2, #T_d50f1_row6_col3, #T_d50f1_row6_col4, #T_d50f1_row6_col5, #T_d50f1_row6_col6, #T_d50f1_row6_col7, #T_d50f1_row6_col8, #T_d50f1_row6_col9, #T_d50f1_row6_col14, #T_d50f1_row6_col15, #T_d50f1_row6_col16, #T_d50f1_row6_col17, #T_d50f1_row7_col0, #T_d50f1_row7_col1, #T_d50f1_row7_col2, #T_d50f1_row7_col3, #T_d50f1_row7_col4, #T_d50f1_row7_col5, #T_d50f1_row7_col6, #T_d50f1_row7_col13, #T_d50f1_row7_col14, #T_d50f1_row7_col15, #T_d50f1_row7_col16, #T_d50f1_row7_col17, #T_d50f1_row8_col0, #T_d50f1_row8_col1, #T_d50f1_row8_col2, #T_d50f1_row8_col3, #T_d50f1_row8_col4, #T_d50f1_row8_col13, #T_d50f1_row8_col14, #T_d50f1_row8_col15, #T_d50f1_row8_col16, #T_d50f1_row8_col17, #T_d50f1_row9_col0, #T_d50f1_row9_col1, #T_d50f1_row9_col2, #T_d50f1_row9_col3, #T_d50f1_row9_col4, #T_d50f1_row9_col16, #T_d50f1_row9_col17, #T_d50f1_row10_col0, #T_d50f1_row10_col1, #T_d50f1_row10_col2, #T_d50f1_row10_col3, #T_d50f1_row10_col4, #T_d50f1_row10_col5, #T_d50f1_row10_col6, #T_d50f1_row10_col17 {\n",
              "  font-size: 6pt;\n",
              "  background-color: #ffffff;\n",
              "  color: #000000;\n",
              "}\n",
              "#T_d50f1_row1_col5 {\n",
              "  font-size: 6pt;\n",
              "  background-color: #efefef;\n",
              "  color: #000000;\n",
              "}\n",
              "#T_d50f1_row1_col6, #T_d50f1_row1_col13 {\n",
              "  font-size: 6pt;\n",
              "  background-color: #7c7c7c;\n",
              "  color: #f1f1f1;\n",
              "}\n",
              "#T_d50f1_row1_col7 {\n",
              "  font-size: 6pt;\n",
              "  background-color: #4a4a4a;\n",
              "  color: #f1f1f1;\n",
              "}\n",
              "#T_d50f1_row1_col8, #T_d50f1_row1_col9, #T_d50f1_row1_col10, #T_d50f1_row2_col5, #T_d50f1_row2_col6, #T_d50f1_row2_col7, #T_d50f1_row2_col11, #T_d50f1_row2_col12, #T_d50f1_row2_col13, #T_d50f1_row3_col4, #T_d50f1_row3_col12, #T_d50f1_row3_col13, #T_d50f1_row4_col1, #T_d50f1_row4_col2, #T_d50f1_row4_col3, #T_d50f1_row4_col12, #T_d50f1_row4_col13, #T_d50f1_row5_col12, #T_d50f1_row6_col11, #T_d50f1_row9_col11, #T_d50f1_row10_col11, #T_d50f1_row10_col12, #T_d50f1_row10_col13, #T_d50f1_row10_col14, #T_d50f1_row10_col15, #T_d50f1_row10_col16 {\n",
              "  font-size: 6pt;\n",
              "  background-color: #000000;\n",
              "  color: #f1f1f1;\n",
              "}\n",
              "#T_d50f1_row1_col11 {\n",
              "  font-size: 6pt;\n",
              "  background-color: #606060;\n",
              "  color: #f1f1f1;\n",
              "}\n",
              "#T_d50f1_row1_col12 {\n",
              "  font-size: 6pt;\n",
              "  background-color: #4d4d4d;\n",
              "  color: #f1f1f1;\n",
              "}\n",
              "#T_d50f1_row1_col14 {\n",
              "  font-size: 6pt;\n",
              "  background-color: #bbbbbb;\n",
              "  color: #000000;\n",
              "}\n",
              "#T_d50f1_row2_col3 {\n",
              "  font-size: 6pt;\n",
              "  background-color: #e4e4e4;\n",
              "  color: #000000;\n",
              "}\n",
              "#T_d50f1_row2_col4, #T_d50f1_row8_col6 {\n",
              "  font-size: 6pt;\n",
              "  background-color: #6b6b6b;\n",
              "  color: #f1f1f1;\n",
              "}\n",
              "#T_d50f1_row2_col8, #T_d50f1_row2_col14, #T_d50f1_row3_col14 {\n",
              "  font-size: 6pt;\n",
              "  background-color: #171717;\n",
              "  color: #f1f1f1;\n",
              "}\n",
              "#T_d50f1_row2_col9, #T_d50f1_row3_col11 {\n",
              "  font-size: 6pt;\n",
              "  background-color: #4b4b4b;\n",
              "  color: #f1f1f1;\n",
              "}\n",
              "#T_d50f1_row2_col10, #T_d50f1_row7_col10, #T_d50f1_row8_col8, #T_d50f1_row8_col10, #T_d50f1_row9_col8, #T_d50f1_row9_col10 {\n",
              "  font-size: 6pt;\n",
              "  background-color: #010101;\n",
              "  color: #f1f1f1;\n",
              "}\n",
              "#T_d50f1_row3_col1 {\n",
              "  font-size: 6pt;\n",
              "  background-color: #272727;\n",
              "  color: #f1f1f1;\n",
              "}\n",
              "#T_d50f1_row3_col2 {\n",
              "  font-size: 6pt;\n",
              "  background-color: #0a0a0a;\n",
              "  color: #f1f1f1;\n",
              "}\n",
              "#T_d50f1_row3_col3 {\n",
              "  font-size: 6pt;\n",
              "  background-color: #050505;\n",
              "  color: #f1f1f1;\n",
              "}\n",
              "#T_d50f1_row3_col5 {\n",
              "  font-size: 6pt;\n",
              "  background-color: #333333;\n",
              "  color: #f1f1f1;\n",
              "}\n",
              "#T_d50f1_row3_col6 {\n",
              "  font-size: 6pt;\n",
              "  background-color: #e6e6e6;\n",
              "  color: #000000;\n",
              "}\n",
              "#T_d50f1_row3_col7, #T_d50f1_row3_col10 {\n",
              "  font-size: 6pt;\n",
              "  background-color: #fafafa;\n",
              "  color: #000000;\n",
              "}\n",
              "#T_d50f1_row3_col8 {\n",
              "  font-size: 6pt;\n",
              "  background-color: #fbfbfb;\n",
              "  color: #000000;\n",
              "}\n",
              "#T_d50f1_row3_col9 {\n",
              "  font-size: 6pt;\n",
              "  background-color: #fdfdfd;\n",
              "  color: #000000;\n",
              "}\n",
              "#T_d50f1_row4_col4 {\n",
              "  font-size: 6pt;\n",
              "  background-color: #1b1b1b;\n",
              "  color: #f1f1f1;\n",
              "}\n",
              "#T_d50f1_row4_col5 {\n",
              "  font-size: 6pt;\n",
              "  background-color: #e0e0e0;\n",
              "  color: #000000;\n",
              "}\n",
              "#T_d50f1_row4_col11 {\n",
              "  font-size: 6pt;\n",
              "  background-color: #4e4e4e;\n",
              "  color: #f1f1f1;\n",
              "}\n",
              "#T_d50f1_row4_col14 {\n",
              "  font-size: 6pt;\n",
              "  background-color: #767676;\n",
              "  color: #f1f1f1;\n",
              "}\n",
              "#T_d50f1_row5_col1 {\n",
              "  font-size: 6pt;\n",
              "  background-color: #fcfcfc;\n",
              "  color: #000000;\n",
              "}\n",
              "#T_d50f1_row5_col2, #T_d50f1_row5_col3 {\n",
              "  font-size: 6pt;\n",
              "  background-color: #f6f6f6;\n",
              "  color: #000000;\n",
              "}\n",
              "#T_d50f1_row5_col4, #T_d50f1_row7_col7 {\n",
              "  font-size: 6pt;\n",
              "  background-color: #f8f8f8;\n",
              "  color: #000000;\n",
              "}\n",
              "#T_d50f1_row5_col10, #T_d50f1_row10_col7 {\n",
              "  font-size: 6pt;\n",
              "  background-color: #e8e8e8;\n",
              "  color: #000000;\n",
              "}\n",
              "#T_d50f1_row5_col11 {\n",
              "  font-size: 6pt;\n",
              "  background-color: #222222;\n",
              "  color: #f1f1f1;\n",
              "}\n",
              "#T_d50f1_row5_col13, #T_d50f1_row6_col12 {\n",
              "  font-size: 6pt;\n",
              "  background-color: #090909;\n",
              "  color: #f1f1f1;\n",
              "}\n",
              "#T_d50f1_row5_col14 {\n",
              "  font-size: 6pt;\n",
              "  background-color: #d0d0d0;\n",
              "  color: #000000;\n",
              "}\n",
              "#T_d50f1_row6_col10, #T_d50f1_row7_col11, #T_d50f1_row9_col6 {\n",
              "  font-size: 6pt;\n",
              "  background-color: #060606;\n",
              "  color: #f1f1f1;\n",
              "}\n",
              "#T_d50f1_row6_col13 {\n",
              "  font-size: 6pt;\n",
              "  background-color: #979797;\n",
              "  color: #f1f1f1;\n",
              "}\n",
              "#T_d50f1_row7_col8 {\n",
              "  font-size: 6pt;\n",
              "  background-color: #b6b6b6;\n",
              "  color: #000000;\n",
              "}\n",
              "#T_d50f1_row7_col9 {\n",
              "  font-size: 6pt;\n",
              "  background-color: #252525;\n",
              "  color: #f1f1f1;\n",
              "}\n",
              "#T_d50f1_row7_col12 {\n",
              "  font-size: 6pt;\n",
              "  background-color: #999999;\n",
              "  color: #f1f1f1;\n",
              "}\n",
              "#T_d50f1_row8_col5 {\n",
              "  font-size: 6pt;\n",
              "  background-color: #f9f9f9;\n",
              "  color: #000000;\n",
              "}\n",
              "#T_d50f1_row8_col7 {\n",
              "  font-size: 6pt;\n",
              "  background-color: #101010;\n",
              "  color: #f1f1f1;\n",
              "}\n",
              "#T_d50f1_row8_col9, #T_d50f1_row9_col9 {\n",
              "  font-size: 6pt;\n",
              "  background-color: #020202;\n",
              "  color: #f1f1f1;\n",
              "}\n",
              "#T_d50f1_row8_col11 {\n",
              "  font-size: 6pt;\n",
              "  background-color: #545454;\n",
              "  color: #f1f1f1;\n",
              "}\n",
              "#T_d50f1_row8_col12 {\n",
              "  font-size: 6pt;\n",
              "  background-color: #f1f1f1;\n",
              "  color: #000000;\n",
              "}\n",
              "#T_d50f1_row9_col5 {\n",
              "  font-size: 6pt;\n",
              "  background-color: #f7f7f7;\n",
              "  color: #000000;\n",
              "}\n",
              "#T_d50f1_row9_col7 {\n",
              "  font-size: 6pt;\n",
              "  background-color: #030303;\n",
              "  color: #f1f1f1;\n",
              "}\n",
              "#T_d50f1_row9_col12 {\n",
              "  font-size: 6pt;\n",
              "  background-color: #181818;\n",
              "  color: #f1f1f1;\n",
              "}\n",
              "#T_d50f1_row9_col13 {\n",
              "  font-size: 6pt;\n",
              "  background-color: #303030;\n",
              "  color: #f1f1f1;\n",
              "}\n",
              "#T_d50f1_row9_col14 {\n",
              "  font-size: 6pt;\n",
              "  background-color: #a9a9a9;\n",
              "  color: #f1f1f1;\n",
              "}\n",
              "#T_d50f1_row9_col15 {\n",
              "  font-size: 6pt;\n",
              "  background-color: #fefefe;\n",
              "  color: #000000;\n",
              "}\n",
              "#T_d50f1_row10_col8, #T_d50f1_row10_col9 {\n",
              "  font-size: 6pt;\n",
              "  background-color: #bababa;\n",
              "  color: #000000;\n",
              "}\n",
              "#T_d50f1_row10_col10 {\n",
              "  font-size: 6pt;\n",
              "  background-color: #393939;\n",
              "  color: #f1f1f1;\n",
              "}\n",
              "</style>\n",
              "<table id=\"T_d50f1\" class=\"dataframe\">\n",
              "  <thead>\n",
              "    <tr>\n",
              "      <th class=\"blank level0\" >&nbsp;</th>\n",
              "      <th id=\"T_d50f1_level0_col0\" class=\"col_heading level0 col0\" >0</th>\n",
              "      <th id=\"T_d50f1_level0_col1\" class=\"col_heading level0 col1\" >1</th>\n",
              "      <th id=\"T_d50f1_level0_col2\" class=\"col_heading level0 col2\" >2</th>\n",
              "      <th id=\"T_d50f1_level0_col3\" class=\"col_heading level0 col3\" >3</th>\n",
              "      <th id=\"T_d50f1_level0_col4\" class=\"col_heading level0 col4\" >4</th>\n",
              "      <th id=\"T_d50f1_level0_col5\" class=\"col_heading level0 col5\" >5</th>\n",
              "      <th id=\"T_d50f1_level0_col6\" class=\"col_heading level0 col6\" >6</th>\n",
              "      <th id=\"T_d50f1_level0_col7\" class=\"col_heading level0 col7\" >7</th>\n",
              "      <th id=\"T_d50f1_level0_col8\" class=\"col_heading level0 col8\" >8</th>\n",
              "      <th id=\"T_d50f1_level0_col9\" class=\"col_heading level0 col9\" >9</th>\n",
              "      <th id=\"T_d50f1_level0_col10\" class=\"col_heading level0 col10\" >10</th>\n",
              "      <th id=\"T_d50f1_level0_col11\" class=\"col_heading level0 col11\" >11</th>\n",
              "      <th id=\"T_d50f1_level0_col12\" class=\"col_heading level0 col12\" >12</th>\n",
              "      <th id=\"T_d50f1_level0_col13\" class=\"col_heading level0 col13\" >13</th>\n",
              "      <th id=\"T_d50f1_level0_col14\" class=\"col_heading level0 col14\" >14</th>\n",
              "      <th id=\"T_d50f1_level0_col15\" class=\"col_heading level0 col15\" >15</th>\n",
              "      <th id=\"T_d50f1_level0_col16\" class=\"col_heading level0 col16\" >16</th>\n",
              "      <th id=\"T_d50f1_level0_col17\" class=\"col_heading level0 col17\" >17</th>\n",
              "    </tr>\n",
              "  </thead>\n",
              "  <tbody>\n",
              "    <tr>\n",
              "      <th id=\"T_d50f1_level0_row0\" class=\"row_heading level0 row0\" >0</th>\n",
              "      <td id=\"T_d50f1_row0_col0\" class=\"data row0 col0\" >0</td>\n",
              "      <td id=\"T_d50f1_row0_col1\" class=\"data row0 col1\" >0</td>\n",
              "      <td id=\"T_d50f1_row0_col2\" class=\"data row0 col2\" >0</td>\n",
              "      <td id=\"T_d50f1_row0_col3\" class=\"data row0 col3\" >0</td>\n",
              "      <td id=\"T_d50f1_row0_col4\" class=\"data row0 col4\" >0</td>\n",
              "      <td id=\"T_d50f1_row0_col5\" class=\"data row0 col5\" >0</td>\n",
              "      <td id=\"T_d50f1_row0_col6\" class=\"data row0 col6\" >0</td>\n",
              "      <td id=\"T_d50f1_row0_col7\" class=\"data row0 col7\" >0</td>\n",
              "      <td id=\"T_d50f1_row0_col8\" class=\"data row0 col8\" >0</td>\n",
              "      <td id=\"T_d50f1_row0_col9\" class=\"data row0 col9\" >0</td>\n",
              "      <td id=\"T_d50f1_row0_col10\" class=\"data row0 col10\" >0</td>\n",
              "      <td id=\"T_d50f1_row0_col11\" class=\"data row0 col11\" >0</td>\n",
              "      <td id=\"T_d50f1_row0_col12\" class=\"data row0 col12\" >0</td>\n",
              "      <td id=\"T_d50f1_row0_col13\" class=\"data row0 col13\" >0</td>\n",
              "      <td id=\"T_d50f1_row0_col14\" class=\"data row0 col14\" >0</td>\n",
              "      <td id=\"T_d50f1_row0_col15\" class=\"data row0 col15\" >0</td>\n",
              "      <td id=\"T_d50f1_row0_col16\" class=\"data row0 col16\" >0</td>\n",
              "      <td id=\"T_d50f1_row0_col17\" class=\"data row0 col17\" >0</td>\n",
              "    </tr>\n",
              "    <tr>\n",
              "      <th id=\"T_d50f1_level0_row1\" class=\"row_heading level0 row1\" >1</th>\n",
              "      <td id=\"T_d50f1_row1_col0\" class=\"data row1 col0\" >0</td>\n",
              "      <td id=\"T_d50f1_row1_col1\" class=\"data row1 col1\" >0</td>\n",
              "      <td id=\"T_d50f1_row1_col2\" class=\"data row1 col2\" >0</td>\n",
              "      <td id=\"T_d50f1_row1_col3\" class=\"data row1 col3\" >0</td>\n",
              "      <td id=\"T_d50f1_row1_col4\" class=\"data row1 col4\" >0</td>\n",
              "      <td id=\"T_d50f1_row1_col5\" class=\"data row1 col5\" >29</td>\n",
              "      <td id=\"T_d50f1_row1_col6\" class=\"data row1 col6\" >150</td>\n",
              "      <td id=\"T_d50f1_row1_col7\" class=\"data row1 col7\" >195</td>\n",
              "      <td id=\"T_d50f1_row1_col8\" class=\"data row1 col8\" >254</td>\n",
              "      <td id=\"T_d50f1_row1_col9\" class=\"data row1 col9\" >255</td>\n",
              "      <td id=\"T_d50f1_row1_col10\" class=\"data row1 col10\" >254</td>\n",
              "      <td id=\"T_d50f1_row1_col11\" class=\"data row1 col11\" >176</td>\n",
              "      <td id=\"T_d50f1_row1_col12\" class=\"data row1 col12\" >193</td>\n",
              "      <td id=\"T_d50f1_row1_col13\" class=\"data row1 col13\" >150</td>\n",
              "      <td id=\"T_d50f1_row1_col14\" class=\"data row1 col14\" >96</td>\n",
              "      <td id=\"T_d50f1_row1_col15\" class=\"data row1 col15\" >0</td>\n",
              "      <td id=\"T_d50f1_row1_col16\" class=\"data row1 col16\" >0</td>\n",
              "      <td id=\"T_d50f1_row1_col17\" class=\"data row1 col17\" >0</td>\n",
              "    </tr>\n",
              "    <tr>\n",
              "      <th id=\"T_d50f1_level0_row2\" class=\"row_heading level0 row2\" >2</th>\n",
              "      <td id=\"T_d50f1_row2_col0\" class=\"data row2 col0\" >0</td>\n",
              "      <td id=\"T_d50f1_row2_col1\" class=\"data row2 col1\" >0</td>\n",
              "      <td id=\"T_d50f1_row2_col2\" class=\"data row2 col2\" >0</td>\n",
              "      <td id=\"T_d50f1_row2_col3\" class=\"data row2 col3\" >48</td>\n",
              "      <td id=\"T_d50f1_row2_col4\" class=\"data row2 col4\" >166</td>\n",
              "      <td id=\"T_d50f1_row2_col5\" class=\"data row2 col5\" >224</td>\n",
              "      <td id=\"T_d50f1_row2_col6\" class=\"data row2 col6\" >253</td>\n",
              "      <td id=\"T_d50f1_row2_col7\" class=\"data row2 col7\" >253</td>\n",
              "      <td id=\"T_d50f1_row2_col8\" class=\"data row2 col8\" >234</td>\n",
              "      <td id=\"T_d50f1_row2_col9\" class=\"data row2 col9\" >196</td>\n",
              "      <td id=\"T_d50f1_row2_col10\" class=\"data row2 col10\" >253</td>\n",
              "      <td id=\"T_d50f1_row2_col11\" class=\"data row2 col11\" >253</td>\n",
              "      <td id=\"T_d50f1_row2_col12\" class=\"data row2 col12\" >253</td>\n",
              "      <td id=\"T_d50f1_row2_col13\" class=\"data row2 col13\" >253</td>\n",
              "      <td id=\"T_d50f1_row2_col14\" class=\"data row2 col14\" >233</td>\n",
              "      <td id=\"T_d50f1_row2_col15\" class=\"data row2 col15\" >0</td>\n",
              "      <td id=\"T_d50f1_row2_col16\" class=\"data row2 col16\" >0</td>\n",
              "      <td id=\"T_d50f1_row2_col17\" class=\"data row2 col17\" >0</td>\n",
              "    </tr>\n",
              "    <tr>\n",
              "      <th id=\"T_d50f1_level0_row3\" class=\"row_heading level0 row3\" >3</th>\n",
              "      <td id=\"T_d50f1_row3_col0\" class=\"data row3 col0\" >0</td>\n",
              "      <td id=\"T_d50f1_row3_col1\" class=\"data row3 col1\" >93</td>\n",
              "      <td id=\"T_d50f1_row3_col2\" class=\"data row3 col2\" >244</td>\n",
              "      <td id=\"T_d50f1_row3_col3\" class=\"data row3 col3\" >249</td>\n",
              "      <td id=\"T_d50f1_row3_col4\" class=\"data row3 col4\" >253</td>\n",
              "      <td id=\"T_d50f1_row3_col5\" class=\"data row3 col5\" >187</td>\n",
              "      <td id=\"T_d50f1_row3_col6\" class=\"data row3 col6\" >46</td>\n",
              "      <td id=\"T_d50f1_row3_col7\" class=\"data row3 col7\" >10</td>\n",
              "      <td id=\"T_d50f1_row3_col8\" class=\"data row3 col8\" >8</td>\n",
              "      <td id=\"T_d50f1_row3_col9\" class=\"data row3 col9\" >4</td>\n",
              "      <td id=\"T_d50f1_row3_col10\" class=\"data row3 col10\" >10</td>\n",
              "      <td id=\"T_d50f1_row3_col11\" class=\"data row3 col11\" >194</td>\n",
              "      <td id=\"T_d50f1_row3_col12\" class=\"data row3 col12\" >253</td>\n",
              "      <td id=\"T_d50f1_row3_col13\" class=\"data row3 col13\" >253</td>\n",
              "      <td id=\"T_d50f1_row3_col14\" class=\"data row3 col14\" >233</td>\n",
              "      <td id=\"T_d50f1_row3_col15\" class=\"data row3 col15\" >0</td>\n",
              "      <td id=\"T_d50f1_row3_col16\" class=\"data row3 col16\" >0</td>\n",
              "      <td id=\"T_d50f1_row3_col17\" class=\"data row3 col17\" >0</td>\n",
              "    </tr>\n",
              "    <tr>\n",
              "      <th id=\"T_d50f1_level0_row4\" class=\"row_heading level0 row4\" >4</th>\n",
              "      <td id=\"T_d50f1_row4_col0\" class=\"data row4 col0\" >0</td>\n",
              "      <td id=\"T_d50f1_row4_col1\" class=\"data row4 col1\" >107</td>\n",
              "      <td id=\"T_d50f1_row4_col2\" class=\"data row4 col2\" >253</td>\n",
              "      <td id=\"T_d50f1_row4_col3\" class=\"data row4 col3\" >253</td>\n",
              "      <td id=\"T_d50f1_row4_col4\" class=\"data row4 col4\" >230</td>\n",
              "      <td id=\"T_d50f1_row4_col5\" class=\"data row4 col5\" >48</td>\n",
              "      <td id=\"T_d50f1_row4_col6\" class=\"data row4 col6\" >0</td>\n",
              "      <td id=\"T_d50f1_row4_col7\" class=\"data row4 col7\" >0</td>\n",
              "      <td id=\"T_d50f1_row4_col8\" class=\"data row4 col8\" >0</td>\n",
              "      <td id=\"T_d50f1_row4_col9\" class=\"data row4 col9\" >0</td>\n",
              "      <td id=\"T_d50f1_row4_col10\" class=\"data row4 col10\" >0</td>\n",
              "      <td id=\"T_d50f1_row4_col11\" class=\"data row4 col11\" >192</td>\n",
              "      <td id=\"T_d50f1_row4_col12\" class=\"data row4 col12\" >253</td>\n",
              "      <td id=\"T_d50f1_row4_col13\" class=\"data row4 col13\" >253</td>\n",
              "      <td id=\"T_d50f1_row4_col14\" class=\"data row4 col14\" >156</td>\n",
              "      <td id=\"T_d50f1_row4_col15\" class=\"data row4 col15\" >0</td>\n",
              "      <td id=\"T_d50f1_row4_col16\" class=\"data row4 col16\" >0</td>\n",
              "      <td id=\"T_d50f1_row4_col17\" class=\"data row4 col17\" >0</td>\n",
              "    </tr>\n",
              "    <tr>\n",
              "      <th id=\"T_d50f1_level0_row5\" class=\"row_heading level0 row5\" >5</th>\n",
              "      <td id=\"T_d50f1_row5_col0\" class=\"data row5 col0\" >0</td>\n",
              "      <td id=\"T_d50f1_row5_col1\" class=\"data row5 col1\" >3</td>\n",
              "      <td id=\"T_d50f1_row5_col2\" class=\"data row5 col2\" >20</td>\n",
              "      <td id=\"T_d50f1_row5_col3\" class=\"data row5 col3\" >20</td>\n",
              "      <td id=\"T_d50f1_row5_col4\" class=\"data row5 col4\" >15</td>\n",
              "      <td id=\"T_d50f1_row5_col5\" class=\"data row5 col5\" >0</td>\n",
              "      <td id=\"T_d50f1_row5_col6\" class=\"data row5 col6\" >0</td>\n",
              "      <td id=\"T_d50f1_row5_col7\" class=\"data row5 col7\" >0</td>\n",
              "      <td id=\"T_d50f1_row5_col8\" class=\"data row5 col8\" >0</td>\n",
              "      <td id=\"T_d50f1_row5_col9\" class=\"data row5 col9\" >0</td>\n",
              "      <td id=\"T_d50f1_row5_col10\" class=\"data row5 col10\" >43</td>\n",
              "      <td id=\"T_d50f1_row5_col11\" class=\"data row5 col11\" >224</td>\n",
              "      <td id=\"T_d50f1_row5_col12\" class=\"data row5 col12\" >253</td>\n",
              "      <td id=\"T_d50f1_row5_col13\" class=\"data row5 col13\" >245</td>\n",
              "      <td id=\"T_d50f1_row5_col14\" class=\"data row5 col14\" >74</td>\n",
              "      <td id=\"T_d50f1_row5_col15\" class=\"data row5 col15\" >0</td>\n",
              "      <td id=\"T_d50f1_row5_col16\" class=\"data row5 col16\" >0</td>\n",
              "      <td id=\"T_d50f1_row5_col17\" class=\"data row5 col17\" >0</td>\n",
              "    </tr>\n",
              "    <tr>\n",
              "      <th id=\"T_d50f1_level0_row6\" class=\"row_heading level0 row6\" >6</th>\n",
              "      <td id=\"T_d50f1_row6_col0\" class=\"data row6 col0\" >0</td>\n",
              "      <td id=\"T_d50f1_row6_col1\" class=\"data row6 col1\" >0</td>\n",
              "      <td id=\"T_d50f1_row6_col2\" class=\"data row6 col2\" >0</td>\n",
              "      <td id=\"T_d50f1_row6_col3\" class=\"data row6 col3\" >0</td>\n",
              "      <td id=\"T_d50f1_row6_col4\" class=\"data row6 col4\" >0</td>\n",
              "      <td id=\"T_d50f1_row6_col5\" class=\"data row6 col5\" >0</td>\n",
              "      <td id=\"T_d50f1_row6_col6\" class=\"data row6 col6\" >0</td>\n",
              "      <td id=\"T_d50f1_row6_col7\" class=\"data row6 col7\" >0</td>\n",
              "      <td id=\"T_d50f1_row6_col8\" class=\"data row6 col8\" >0</td>\n",
              "      <td id=\"T_d50f1_row6_col9\" class=\"data row6 col9\" >0</td>\n",
              "      <td id=\"T_d50f1_row6_col10\" class=\"data row6 col10\" >249</td>\n",
              "      <td id=\"T_d50f1_row6_col11\" class=\"data row6 col11\" >253</td>\n",
              "      <td id=\"T_d50f1_row6_col12\" class=\"data row6 col12\" >245</td>\n",
              "      <td id=\"T_d50f1_row6_col13\" class=\"data row6 col13\" >126</td>\n",
              "      <td id=\"T_d50f1_row6_col14\" class=\"data row6 col14\" >0</td>\n",
              "      <td id=\"T_d50f1_row6_col15\" class=\"data row6 col15\" >0</td>\n",
              "      <td id=\"T_d50f1_row6_col16\" class=\"data row6 col16\" >0</td>\n",
              "      <td id=\"T_d50f1_row6_col17\" class=\"data row6 col17\" >0</td>\n",
              "    </tr>\n",
              "    <tr>\n",
              "      <th id=\"T_d50f1_level0_row7\" class=\"row_heading level0 row7\" >7</th>\n",
              "      <td id=\"T_d50f1_row7_col0\" class=\"data row7 col0\" >0</td>\n",
              "      <td id=\"T_d50f1_row7_col1\" class=\"data row7 col1\" >0</td>\n",
              "      <td id=\"T_d50f1_row7_col2\" class=\"data row7 col2\" >0</td>\n",
              "      <td id=\"T_d50f1_row7_col3\" class=\"data row7 col3\" >0</td>\n",
              "      <td id=\"T_d50f1_row7_col4\" class=\"data row7 col4\" >0</td>\n",
              "      <td id=\"T_d50f1_row7_col5\" class=\"data row7 col5\" >0</td>\n",
              "      <td id=\"T_d50f1_row7_col6\" class=\"data row7 col6\" >0</td>\n",
              "      <td id=\"T_d50f1_row7_col7\" class=\"data row7 col7\" >14</td>\n",
              "      <td id=\"T_d50f1_row7_col8\" class=\"data row7 col8\" >101</td>\n",
              "      <td id=\"T_d50f1_row7_col9\" class=\"data row7 col9\" >223</td>\n",
              "      <td id=\"T_d50f1_row7_col10\" class=\"data row7 col10\" >253</td>\n",
              "      <td id=\"T_d50f1_row7_col11\" class=\"data row7 col11\" >248</td>\n",
              "      <td id=\"T_d50f1_row7_col12\" class=\"data row7 col12\" >124</td>\n",
              "      <td id=\"T_d50f1_row7_col13\" class=\"data row7 col13\" >0</td>\n",
              "      <td id=\"T_d50f1_row7_col14\" class=\"data row7 col14\" >0</td>\n",
              "      <td id=\"T_d50f1_row7_col15\" class=\"data row7 col15\" >0</td>\n",
              "      <td id=\"T_d50f1_row7_col16\" class=\"data row7 col16\" >0</td>\n",
              "      <td id=\"T_d50f1_row7_col17\" class=\"data row7 col17\" >0</td>\n",
              "    </tr>\n",
              "    <tr>\n",
              "      <th id=\"T_d50f1_level0_row8\" class=\"row_heading level0 row8\" >8</th>\n",
              "      <td id=\"T_d50f1_row8_col0\" class=\"data row8 col0\" >0</td>\n",
              "      <td id=\"T_d50f1_row8_col1\" class=\"data row8 col1\" >0</td>\n",
              "      <td id=\"T_d50f1_row8_col2\" class=\"data row8 col2\" >0</td>\n",
              "      <td id=\"T_d50f1_row8_col3\" class=\"data row8 col3\" >0</td>\n",
              "      <td id=\"T_d50f1_row8_col4\" class=\"data row8 col4\" >0</td>\n",
              "      <td id=\"T_d50f1_row8_col5\" class=\"data row8 col5\" >11</td>\n",
              "      <td id=\"T_d50f1_row8_col6\" class=\"data row8 col6\" >166</td>\n",
              "      <td id=\"T_d50f1_row8_col7\" class=\"data row8 col7\" >239</td>\n",
              "      <td id=\"T_d50f1_row8_col8\" class=\"data row8 col8\" >253</td>\n",
              "      <td id=\"T_d50f1_row8_col9\" class=\"data row8 col9\" >253</td>\n",
              "      <td id=\"T_d50f1_row8_col10\" class=\"data row8 col10\" >253</td>\n",
              "      <td id=\"T_d50f1_row8_col11\" class=\"data row8 col11\" >187</td>\n",
              "      <td id=\"T_d50f1_row8_col12\" class=\"data row8 col12\" >30</td>\n",
              "      <td id=\"T_d50f1_row8_col13\" class=\"data row8 col13\" >0</td>\n",
              "      <td id=\"T_d50f1_row8_col14\" class=\"data row8 col14\" >0</td>\n",
              "      <td id=\"T_d50f1_row8_col15\" class=\"data row8 col15\" >0</td>\n",
              "      <td id=\"T_d50f1_row8_col16\" class=\"data row8 col16\" >0</td>\n",
              "      <td id=\"T_d50f1_row8_col17\" class=\"data row8 col17\" >0</td>\n",
              "    </tr>\n",
              "    <tr>\n",
              "      <th id=\"T_d50f1_level0_row9\" class=\"row_heading level0 row9\" >9</th>\n",
              "      <td id=\"T_d50f1_row9_col0\" class=\"data row9 col0\" >0</td>\n",
              "      <td id=\"T_d50f1_row9_col1\" class=\"data row9 col1\" >0</td>\n",
              "      <td id=\"T_d50f1_row9_col2\" class=\"data row9 col2\" >0</td>\n",
              "      <td id=\"T_d50f1_row9_col3\" class=\"data row9 col3\" >0</td>\n",
              "      <td id=\"T_d50f1_row9_col4\" class=\"data row9 col4\" >0</td>\n",
              "      <td id=\"T_d50f1_row9_col5\" class=\"data row9 col5\" >16</td>\n",
              "      <td id=\"T_d50f1_row9_col6\" class=\"data row9 col6\" >248</td>\n",
              "      <td id=\"T_d50f1_row9_col7\" class=\"data row9 col7\" >250</td>\n",
              "      <td id=\"T_d50f1_row9_col8\" class=\"data row9 col8\" >253</td>\n",
              "      <td id=\"T_d50f1_row9_col9\" class=\"data row9 col9\" >253</td>\n",
              "      <td id=\"T_d50f1_row9_col10\" class=\"data row9 col10\" >253</td>\n",
              "      <td id=\"T_d50f1_row9_col11\" class=\"data row9 col11\" >253</td>\n",
              "      <td id=\"T_d50f1_row9_col12\" class=\"data row9 col12\" >232</td>\n",
              "      <td id=\"T_d50f1_row9_col13\" class=\"data row9 col13\" >213</td>\n",
              "      <td id=\"T_d50f1_row9_col14\" class=\"data row9 col14\" >111</td>\n",
              "      <td id=\"T_d50f1_row9_col15\" class=\"data row9 col15\" >2</td>\n",
              "      <td id=\"T_d50f1_row9_col16\" class=\"data row9 col16\" >0</td>\n",
              "      <td id=\"T_d50f1_row9_col17\" class=\"data row9 col17\" >0</td>\n",
              "    </tr>\n",
              "    <tr>\n",
              "      <th id=\"T_d50f1_level0_row10\" class=\"row_heading level0 row10\" >10</th>\n",
              "      <td id=\"T_d50f1_row10_col0\" class=\"data row10 col0\" >0</td>\n",
              "      <td id=\"T_d50f1_row10_col1\" class=\"data row10 col1\" >0</td>\n",
              "      <td id=\"T_d50f1_row10_col2\" class=\"data row10 col2\" >0</td>\n",
              "      <td id=\"T_d50f1_row10_col3\" class=\"data row10 col3\" >0</td>\n",
              "      <td id=\"T_d50f1_row10_col4\" class=\"data row10 col4\" >0</td>\n",
              "      <td id=\"T_d50f1_row10_col5\" class=\"data row10 col5\" >0</td>\n",
              "      <td id=\"T_d50f1_row10_col6\" class=\"data row10 col6\" >0</td>\n",
              "      <td id=\"T_d50f1_row10_col7\" class=\"data row10 col7\" >43</td>\n",
              "      <td id=\"T_d50f1_row10_col8\" class=\"data row10 col8\" >98</td>\n",
              "      <td id=\"T_d50f1_row10_col9\" class=\"data row10 col9\" >98</td>\n",
              "      <td id=\"T_d50f1_row10_col10\" class=\"data row10 col10\" >208</td>\n",
              "      <td id=\"T_d50f1_row10_col11\" class=\"data row10 col11\" >253</td>\n",
              "      <td id=\"T_d50f1_row10_col12\" class=\"data row10 col12\" >253</td>\n",
              "      <td id=\"T_d50f1_row10_col13\" class=\"data row10 col13\" >253</td>\n",
              "      <td id=\"T_d50f1_row10_col14\" class=\"data row10 col14\" >253</td>\n",
              "      <td id=\"T_d50f1_row10_col15\" class=\"data row10 col15\" >187</td>\n",
              "      <td id=\"T_d50f1_row10_col16\" class=\"data row10 col16\" >22</td>\n",
              "      <td id=\"T_d50f1_row10_col17\" class=\"data row10 col17\" >0</td>\n",
              "    </tr>\n",
              "  </tbody>\n",
              "</table>\n"
            ]
          },
          "metadata": {},
          "execution_count": 30
        }
      ],
      "source": [
        "im3_t = tensor(im3)\n",
        "df = pd.DataFrame(im3_t[4:15,4:22])\n",
        "df.style.set_properties(**{'font-size':'6pt'}).background_gradient('Greys')"
      ]
    },
    {
      "cell_type": "code",
      "source": [
        "im7_t = tensor(im7)\n",
        "df = pd.DataFrame(im7_t[4:15,4:22])\n",
        "df.style.set_properties(**{'font-size':'6pt'}).background_gradient('Greys')"
      ],
      "metadata": {
        "id": "3X5HCGXIxQWv",
        "outputId": "9a40b207-354d-42c0-95f8-6a5f2b1ca11e",
        "colab": {
          "base_uri": "https://localhost:8080/",
          "height": 394
        }
      },
      "execution_count": null,
      "outputs": [
        {
          "output_type": "execute_result",
          "data": {
            "text/plain": [
              "<pandas.io.formats.style.Styler at 0x7f56a5db7460>"
            ],
            "text/html": [
              "<style type=\"text/css\">\n",
              "#T_ddca7_row0_col0, #T_ddca7_row0_col1, #T_ddca7_row0_col2, #T_ddca7_row0_col3, #T_ddca7_row0_col4, #T_ddca7_row0_col5, #T_ddca7_row0_col6, #T_ddca7_row0_col7, #T_ddca7_row0_col8, #T_ddca7_row0_col9, #T_ddca7_row0_col10, #T_ddca7_row0_col11, #T_ddca7_row0_col12, #T_ddca7_row0_col13, #T_ddca7_row0_col14, #T_ddca7_row0_col15, #T_ddca7_row0_col16, #T_ddca7_row0_col17, #T_ddca7_row1_col0, #T_ddca7_row1_col1, #T_ddca7_row1_col2, #T_ddca7_row1_col3, #T_ddca7_row1_col4, #T_ddca7_row1_col5, #T_ddca7_row1_col6, #T_ddca7_row1_col7, #T_ddca7_row1_col8, #T_ddca7_row1_col9, #T_ddca7_row1_col10, #T_ddca7_row1_col11, #T_ddca7_row1_col12, #T_ddca7_row1_col13, #T_ddca7_row1_col14, #T_ddca7_row1_col15, #T_ddca7_row1_col16, #T_ddca7_row1_col17, #T_ddca7_row2_col0, #T_ddca7_row2_col1, #T_ddca7_row2_col2, #T_ddca7_row2_col3, #T_ddca7_row2_col4, #T_ddca7_row2_col5, #T_ddca7_row2_col6, #T_ddca7_row2_col7, #T_ddca7_row2_col10, #T_ddca7_row2_col11, #T_ddca7_row2_col12, #T_ddca7_row2_col13, #T_ddca7_row2_col14, #T_ddca7_row2_col15, #T_ddca7_row3_col0, #T_ddca7_row3_col1, #T_ddca7_row3_col2, #T_ddca7_row3_col3, #T_ddca7_row3_col4, #T_ddca7_row3_col5, #T_ddca7_row3_col10, #T_ddca7_row3_col11, #T_ddca7_row3_col12, #T_ddca7_row3_col13, #T_ddca7_row3_col14, #T_ddca7_row4_col0, #T_ddca7_row4_col1, #T_ddca7_row4_col2, #T_ddca7_row4_col3, #T_ddca7_row4_col4, #T_ddca7_row4_col11, #T_ddca7_row4_col12, #T_ddca7_row4_col13, #T_ddca7_row5_col0, #T_ddca7_row5_col1, #T_ddca7_row5_col2, #T_ddca7_row5_col3, #T_ddca7_row5_col4, #T_ddca7_row6_col0, #T_ddca7_row6_col1, #T_ddca7_row6_col2, #T_ddca7_row7_col0, #T_ddca7_row7_col1, #T_ddca7_row8_col0, #T_ddca7_row8_col1, #T_ddca7_row9_col0, #T_ddca7_row9_col1, #T_ddca7_row9_col9, #T_ddca7_row9_col10, #T_ddca7_row9_col11, #T_ddca7_row9_col17, #T_ddca7_row10_col0, #T_ddca7_row10_col1, #T_ddca7_row10_col6, #T_ddca7_row10_col7, #T_ddca7_row10_col8, #T_ddca7_row10_col9, #T_ddca7_row10_col10, #T_ddca7_row10_col16, #T_ddca7_row10_col17 {\n",
              "  font-size: 6pt;\n",
              "  background-color: #ffffff;\n",
              "  color: #000000;\n",
              "}\n",
              "#T_ddca7_row2_col8 {\n",
              "  font-size: 6pt;\n",
              "  background-color: #f9f9f9;\n",
              "  color: #000000;\n",
              "}\n",
              "#T_ddca7_row2_col9 {\n",
              "  font-size: 6pt;\n",
              "  background-color: #fcfcfc;\n",
              "  color: #000000;\n",
              "}\n",
              "#T_ddca7_row2_col16 {\n",
              "  font-size: 6pt;\n",
              "  background-color: #fefefe;\n",
              "  color: #000000;\n",
              "}\n",
              "#T_ddca7_row2_col17 {\n",
              "  font-size: 6pt;\n",
              "  background-color: #bfbfbf;\n",
              "  color: #000000;\n",
              "}\n",
              "#T_ddca7_row3_col6 {\n",
              "  font-size: 6pt;\n",
              "  background-color: #f8f8f8;\n",
              "  color: #000000;\n",
              "}\n",
              "#T_ddca7_row3_col7, #T_ddca7_row10_col3 {\n",
              "  font-size: 6pt;\n",
              "  background-color: #757575;\n",
              "  color: #f1f1f1;\n",
              "}\n",
              "#T_ddca7_row3_col8, #T_ddca7_row3_col17, #T_ddca7_row4_col7, #T_ddca7_row4_col8, #T_ddca7_row4_col16, #T_ddca7_row4_col17, #T_ddca7_row5_col7, #T_ddca7_row5_col14, #T_ddca7_row5_col15, #T_ddca7_row5_col16, #T_ddca7_row5_col17, #T_ddca7_row6_col12, #T_ddca7_row6_col13, #T_ddca7_row6_col14, #T_ddca7_row6_col15, #T_ddca7_row6_col16, #T_ddca7_row6_col17, #T_ddca7_row7_col4, #T_ddca7_row7_col5, #T_ddca7_row7_col6, #T_ddca7_row7_col7, #T_ddca7_row7_col8, #T_ddca7_row7_col9, #T_ddca7_row7_col10, #T_ddca7_row7_col11, #T_ddca7_row7_col12, #T_ddca7_row7_col13, #T_ddca7_row7_col14, #T_ddca7_row7_col15, #T_ddca7_row7_col16, #T_ddca7_row8_col3, #T_ddca7_row8_col4, #T_ddca7_row8_col5, #T_ddca7_row8_col7, #T_ddca7_row8_col14, #T_ddca7_row8_col15, #T_ddca7_row9_col2, #T_ddca7_row9_col3, #T_ddca7_row9_col4, #T_ddca7_row9_col13, #T_ddca7_row9_col14, #T_ddca7_row10_col13, #T_ddca7_row10_col14 {\n",
              "  font-size: 6pt;\n",
              "  background-color: #000000;\n",
              "  color: #f1f1f1;\n",
              "}\n",
              "#T_ddca7_row3_col9 {\n",
              "  font-size: 6pt;\n",
              "  background-color: #484848;\n",
              "  color: #f1f1f1;\n",
              "}\n",
              "#T_ddca7_row3_col15 {\n",
              "  font-size: 6pt;\n",
              "  background-color: #f7f7f7;\n",
              "  color: #000000;\n",
              "}\n",
              "#T_ddca7_row3_col16 {\n",
              "  font-size: 6pt;\n",
              "  background-color: #919191;\n",
              "  color: #f1f1f1;\n",
              "}\n",
              "#T_ddca7_row4_col5 {\n",
              "  font-size: 6pt;\n",
              "  background-color: #fbfbfb;\n",
              "  color: #000000;\n",
              "}\n",
              "#T_ddca7_row4_col6 {\n",
              "  font-size: 6pt;\n",
              "  background-color: #292929;\n",
              "  color: #f1f1f1;\n",
              "}\n",
              "#T_ddca7_row4_col9 {\n",
              "  font-size: 6pt;\n",
              "  background-color: #1c1c1c;\n",
              "  color: #f1f1f1;\n",
              "}\n",
              "#T_ddca7_row4_col10 {\n",
              "  font-size: 6pt;\n",
              "  background-color: #b3b3b3;\n",
              "  color: #000000;\n",
              "}\n",
              "#T_ddca7_row4_col14 {\n",
              "  font-size: 6pt;\n",
              "  background-color: #d8d8d8;\n",
              "  color: #000000;\n",
              "}\n",
              "#T_ddca7_row4_col15 {\n",
              "  font-size: 6pt;\n",
              "  background-color: #2e2e2e;\n",
              "  color: #f1f1f1;\n",
              "}\n",
              "#T_ddca7_row5_col5, #T_ddca7_row8_col11 {\n",
              "  font-size: 6pt;\n",
              "  background-color: #686868;\n",
              "  color: #f1f1f1;\n",
              "}\n",
              "#T_ddca7_row5_col6, #T_ddca7_row6_col6, #T_ddca7_row8_col6, #T_ddca7_row8_col8, #T_ddca7_row9_col15 {\n",
              "  font-size: 6pt;\n",
              "  background-color: #010101;\n",
              "  color: #f1f1f1;\n",
              "}\n",
              "#T_ddca7_row5_col8 {\n",
              "  font-size: 6pt;\n",
              "  background-color: #1b1b1b;\n",
              "  color: #f1f1f1;\n",
              "}\n",
              "#T_ddca7_row5_col9 {\n",
              "  font-size: 6pt;\n",
              "  background-color: #989898;\n",
              "  color: #f1f1f1;\n",
              "}\n",
              "#T_ddca7_row5_col10, #T_ddca7_row6_col3 {\n",
              "  font-size: 6pt;\n",
              "  background-color: #eaeaea;\n",
              "  color: #000000;\n",
              "}\n",
              "#T_ddca7_row5_col11, #T_ddca7_row7_col2 {\n",
              "  font-size: 6pt;\n",
              "  background-color: #fafafa;\n",
              "  color: #000000;\n",
              "}\n",
              "#T_ddca7_row5_col12, #T_ddca7_row6_col9 {\n",
              "  font-size: 6pt;\n",
              "  background-color: #d4d4d4;\n",
              "  color: #000000;\n",
              "}\n",
              "#T_ddca7_row5_col13 {\n",
              "  font-size: 6pt;\n",
              "  background-color: #5d5d5d;\n",
              "  color: #f1f1f1;\n",
              "}\n",
              "#T_ddca7_row6_col4 {\n",
              "  font-size: 6pt;\n",
              "  background-color: #5a5a5a;\n",
              "  color: #f1f1f1;\n",
              "}\n",
              "#T_ddca7_row6_col5 {\n",
              "  font-size: 6pt;\n",
              "  background-color: #030303;\n",
              "  color: #f1f1f1;\n",
              "}\n",
              "#T_ddca7_row6_col7 {\n",
              "  font-size: 6pt;\n",
              "  background-color: #212121;\n",
              "  color: #f1f1f1;\n",
              "}\n",
              "#T_ddca7_row6_col8 {\n",
              "  font-size: 6pt;\n",
              "  background-color: #cacaca;\n",
              "  color: #000000;\n",
              "}\n",
              "#T_ddca7_row6_col10 {\n",
              "  font-size: 6pt;\n",
              "  background-color: #5e5e5e;\n",
              "  color: #f1f1f1;\n",
              "}\n",
              "#T_ddca7_row6_col11 {\n",
              "  font-size: 6pt;\n",
              "  background-color: #1d1d1d;\n",
              "  color: #f1f1f1;\n",
              "}\n",
              "#T_ddca7_row7_col3 {\n",
              "  font-size: 6pt;\n",
              "  background-color: #393939;\n",
              "  color: #f1f1f1;\n",
              "}\n",
              "#T_ddca7_row7_col17 {\n",
              "  font-size: 6pt;\n",
              "  background-color: #525252;\n",
              "  color: #f1f1f1;\n",
              "}\n",
              "#T_ddca7_row8_col2 {\n",
              "  font-size: 6pt;\n",
              "  background-color: #c2c2c2;\n",
              "  color: #000000;\n",
              "}\n",
              "#T_ddca7_row8_col9 {\n",
              "  font-size: 6pt;\n",
              "  background-color: #050505;\n",
              "  color: #f1f1f1;\n",
              "}\n",
              "#T_ddca7_row8_col10 {\n",
              "  font-size: 6pt;\n",
              "  background-color: #353535;\n",
              "  color: #f1f1f1;\n",
              "}\n",
              "#T_ddca7_row8_col12 {\n",
              "  font-size: 6pt;\n",
              "  background-color: #999999;\n",
              "  color: #f1f1f1;\n",
              "}\n",
              "#T_ddca7_row8_col13 {\n",
              "  font-size: 6pt;\n",
              "  background-color: #6a6a6a;\n",
              "  color: #f1f1f1;\n",
              "}\n",
              "#T_ddca7_row8_col16 {\n",
              "  font-size: 6pt;\n",
              "  background-color: #0f0f0f;\n",
              "  color: #f1f1f1;\n",
              "}\n",
              "#T_ddca7_row8_col17 {\n",
              "  font-size: 6pt;\n",
              "  background-color: #eeeeee;\n",
              "  color: #000000;\n",
              "}\n",
              "#T_ddca7_row9_col5 {\n",
              "  font-size: 6pt;\n",
              "  background-color: #5c5c5c;\n",
              "  color: #f1f1f1;\n",
              "}\n",
              "#T_ddca7_row9_col6, #T_ddca7_row9_col7 {\n",
              "  font-size: 6pt;\n",
              "  background-color: #cdcdcd;\n",
              "  color: #000000;\n",
              "}\n",
              "#T_ddca7_row9_col8 {\n",
              "  font-size: 6pt;\n",
              "  background-color: #e4e4e4;\n",
              "  color: #000000;\n",
              "}\n",
              "#T_ddca7_row9_col12 {\n",
              "  font-size: 6pt;\n",
              "  background-color: #949494;\n",
              "  color: #f1f1f1;\n",
              "}\n",
              "#T_ddca7_row9_col16 {\n",
              "  font-size: 6pt;\n",
              "  background-color: #dedede;\n",
              "  color: #000000;\n",
              "}\n",
              "#T_ddca7_row10_col2 {\n",
              "  font-size: 6pt;\n",
              "  background-color: #f4f4f4;\n",
              "  color: #000000;\n",
              "}\n",
              "#T_ddca7_row10_col4 {\n",
              "  font-size: 6pt;\n",
              "  background-color: #4b4b4b;\n",
              "  color: #f1f1f1;\n",
              "}\n",
              "#T_ddca7_row10_col5 {\n",
              "  font-size: 6pt;\n",
              "  background-color: #f1f1f1;\n",
              "  color: #000000;\n",
              "}\n",
              "#T_ddca7_row10_col11 {\n",
              "  font-size: 6pt;\n",
              "  background-color: #cfcfcf;\n",
              "  color: #000000;\n",
              "}\n",
              "#T_ddca7_row10_col12 {\n",
              "  font-size: 6pt;\n",
              "  background-color: #070707;\n",
              "  color: #f1f1f1;\n",
              "}\n",
              "#T_ddca7_row10_col15 {\n",
              "  font-size: 6pt;\n",
              "  background-color: #888888;\n",
              "  color: #f1f1f1;\n",
              "}\n",
              "</style>\n",
              "<table id=\"T_ddca7\" class=\"dataframe\">\n",
              "  <thead>\n",
              "    <tr>\n",
              "      <th class=\"blank level0\" >&nbsp;</th>\n",
              "      <th id=\"T_ddca7_level0_col0\" class=\"col_heading level0 col0\" >0</th>\n",
              "      <th id=\"T_ddca7_level0_col1\" class=\"col_heading level0 col1\" >1</th>\n",
              "      <th id=\"T_ddca7_level0_col2\" class=\"col_heading level0 col2\" >2</th>\n",
              "      <th id=\"T_ddca7_level0_col3\" class=\"col_heading level0 col3\" >3</th>\n",
              "      <th id=\"T_ddca7_level0_col4\" class=\"col_heading level0 col4\" >4</th>\n",
              "      <th id=\"T_ddca7_level0_col5\" class=\"col_heading level0 col5\" >5</th>\n",
              "      <th id=\"T_ddca7_level0_col6\" class=\"col_heading level0 col6\" >6</th>\n",
              "      <th id=\"T_ddca7_level0_col7\" class=\"col_heading level0 col7\" >7</th>\n",
              "      <th id=\"T_ddca7_level0_col8\" class=\"col_heading level0 col8\" >8</th>\n",
              "      <th id=\"T_ddca7_level0_col9\" class=\"col_heading level0 col9\" >9</th>\n",
              "      <th id=\"T_ddca7_level0_col10\" class=\"col_heading level0 col10\" >10</th>\n",
              "      <th id=\"T_ddca7_level0_col11\" class=\"col_heading level0 col11\" >11</th>\n",
              "      <th id=\"T_ddca7_level0_col12\" class=\"col_heading level0 col12\" >12</th>\n",
              "      <th id=\"T_ddca7_level0_col13\" class=\"col_heading level0 col13\" >13</th>\n",
              "      <th id=\"T_ddca7_level0_col14\" class=\"col_heading level0 col14\" >14</th>\n",
              "      <th id=\"T_ddca7_level0_col15\" class=\"col_heading level0 col15\" >15</th>\n",
              "      <th id=\"T_ddca7_level0_col16\" class=\"col_heading level0 col16\" >16</th>\n",
              "      <th id=\"T_ddca7_level0_col17\" class=\"col_heading level0 col17\" >17</th>\n",
              "    </tr>\n",
              "  </thead>\n",
              "  <tbody>\n",
              "    <tr>\n",
              "      <th id=\"T_ddca7_level0_row0\" class=\"row_heading level0 row0\" >0</th>\n",
              "      <td id=\"T_ddca7_row0_col0\" class=\"data row0 col0\" >0</td>\n",
              "      <td id=\"T_ddca7_row0_col1\" class=\"data row0 col1\" >0</td>\n",
              "      <td id=\"T_ddca7_row0_col2\" class=\"data row0 col2\" >0</td>\n",
              "      <td id=\"T_ddca7_row0_col3\" class=\"data row0 col3\" >0</td>\n",
              "      <td id=\"T_ddca7_row0_col4\" class=\"data row0 col4\" >0</td>\n",
              "      <td id=\"T_ddca7_row0_col5\" class=\"data row0 col5\" >0</td>\n",
              "      <td id=\"T_ddca7_row0_col6\" class=\"data row0 col6\" >0</td>\n",
              "      <td id=\"T_ddca7_row0_col7\" class=\"data row0 col7\" >0</td>\n",
              "      <td id=\"T_ddca7_row0_col8\" class=\"data row0 col8\" >0</td>\n",
              "      <td id=\"T_ddca7_row0_col9\" class=\"data row0 col9\" >0</td>\n",
              "      <td id=\"T_ddca7_row0_col10\" class=\"data row0 col10\" >0</td>\n",
              "      <td id=\"T_ddca7_row0_col11\" class=\"data row0 col11\" >0</td>\n",
              "      <td id=\"T_ddca7_row0_col12\" class=\"data row0 col12\" >0</td>\n",
              "      <td id=\"T_ddca7_row0_col13\" class=\"data row0 col13\" >0</td>\n",
              "      <td id=\"T_ddca7_row0_col14\" class=\"data row0 col14\" >0</td>\n",
              "      <td id=\"T_ddca7_row0_col15\" class=\"data row0 col15\" >0</td>\n",
              "      <td id=\"T_ddca7_row0_col16\" class=\"data row0 col16\" >0</td>\n",
              "      <td id=\"T_ddca7_row0_col17\" class=\"data row0 col17\" >0</td>\n",
              "    </tr>\n",
              "    <tr>\n",
              "      <th id=\"T_ddca7_level0_row1\" class=\"row_heading level0 row1\" >1</th>\n",
              "      <td id=\"T_ddca7_row1_col0\" class=\"data row1 col0\" >0</td>\n",
              "      <td id=\"T_ddca7_row1_col1\" class=\"data row1 col1\" >0</td>\n",
              "      <td id=\"T_ddca7_row1_col2\" class=\"data row1 col2\" >0</td>\n",
              "      <td id=\"T_ddca7_row1_col3\" class=\"data row1 col3\" >0</td>\n",
              "      <td id=\"T_ddca7_row1_col4\" class=\"data row1 col4\" >0</td>\n",
              "      <td id=\"T_ddca7_row1_col5\" class=\"data row1 col5\" >0</td>\n",
              "      <td id=\"T_ddca7_row1_col6\" class=\"data row1 col6\" >0</td>\n",
              "      <td id=\"T_ddca7_row1_col7\" class=\"data row1 col7\" >0</td>\n",
              "      <td id=\"T_ddca7_row1_col8\" class=\"data row1 col8\" >0</td>\n",
              "      <td id=\"T_ddca7_row1_col9\" class=\"data row1 col9\" >0</td>\n",
              "      <td id=\"T_ddca7_row1_col10\" class=\"data row1 col10\" >0</td>\n",
              "      <td id=\"T_ddca7_row1_col11\" class=\"data row1 col11\" >0</td>\n",
              "      <td id=\"T_ddca7_row1_col12\" class=\"data row1 col12\" >0</td>\n",
              "      <td id=\"T_ddca7_row1_col13\" class=\"data row1 col13\" >0</td>\n",
              "      <td id=\"T_ddca7_row1_col14\" class=\"data row1 col14\" >0</td>\n",
              "      <td id=\"T_ddca7_row1_col15\" class=\"data row1 col15\" >0</td>\n",
              "      <td id=\"T_ddca7_row1_col16\" class=\"data row1 col16\" >0</td>\n",
              "      <td id=\"T_ddca7_row1_col17\" class=\"data row1 col17\" >0</td>\n",
              "    </tr>\n",
              "    <tr>\n",
              "      <th id=\"T_ddca7_level0_row2\" class=\"row_heading level0 row2\" >2</th>\n",
              "      <td id=\"T_ddca7_row2_col0\" class=\"data row2 col0\" >0</td>\n",
              "      <td id=\"T_ddca7_row2_col1\" class=\"data row2 col1\" >0</td>\n",
              "      <td id=\"T_ddca7_row2_col2\" class=\"data row2 col2\" >0</td>\n",
              "      <td id=\"T_ddca7_row2_col3\" class=\"data row2 col3\" >0</td>\n",
              "      <td id=\"T_ddca7_row2_col4\" class=\"data row2 col4\" >0</td>\n",
              "      <td id=\"T_ddca7_row2_col5\" class=\"data row2 col5\" >0</td>\n",
              "      <td id=\"T_ddca7_row2_col6\" class=\"data row2 col6\" >0</td>\n",
              "      <td id=\"T_ddca7_row2_col7\" class=\"data row2 col7\" >1</td>\n",
              "      <td id=\"T_ddca7_row2_col8\" class=\"data row2 col8\" >13</td>\n",
              "      <td id=\"T_ddca7_row2_col9\" class=\"data row2 col9\" >7</td>\n",
              "      <td id=\"T_ddca7_row2_col10\" class=\"data row2 col10\" >0</td>\n",
              "      <td id=\"T_ddca7_row2_col11\" class=\"data row2 col11\" >0</td>\n",
              "      <td id=\"T_ddca7_row2_col12\" class=\"data row2 col12\" >0</td>\n",
              "      <td id=\"T_ddca7_row2_col13\" class=\"data row2 col13\" >0</td>\n",
              "      <td id=\"T_ddca7_row2_col14\" class=\"data row2 col14\" >0</td>\n",
              "      <td id=\"T_ddca7_row2_col15\" class=\"data row2 col15\" >0</td>\n",
              "      <td id=\"T_ddca7_row2_col16\" class=\"data row2 col16\" >2</td>\n",
              "      <td id=\"T_ddca7_row2_col17\" class=\"data row2 col17\" >93</td>\n",
              "    </tr>\n",
              "    <tr>\n",
              "      <th id=\"T_ddca7_level0_row3\" class=\"row_heading level0 row3\" >3</th>\n",
              "      <td id=\"T_ddca7_row3_col0\" class=\"data row3 col0\" >0</td>\n",
              "      <td id=\"T_ddca7_row3_col1\" class=\"data row3 col1\" >0</td>\n",
              "      <td id=\"T_ddca7_row3_col2\" class=\"data row3 col2\" >0</td>\n",
              "      <td id=\"T_ddca7_row3_col3\" class=\"data row3 col3\" >0</td>\n",
              "      <td id=\"T_ddca7_row3_col4\" class=\"data row3 col4\" >0</td>\n",
              "      <td id=\"T_ddca7_row3_col5\" class=\"data row3 col5\" >0</td>\n",
              "      <td id=\"T_ddca7_row3_col6\" class=\"data row3 col6\" >15</td>\n",
              "      <td id=\"T_ddca7_row3_col7\" class=\"data row3 col7\" >157</td>\n",
              "      <td id=\"T_ddca7_row3_col8\" class=\"data row3 col8\" >254</td>\n",
              "      <td id=\"T_ddca7_row3_col9\" class=\"data row3 col9\" >197</td>\n",
              "      <td id=\"T_ddca7_row3_col10\" class=\"data row3 col10\" >0</td>\n",
              "      <td id=\"T_ddca7_row3_col11\" class=\"data row3 col11\" >0</td>\n",
              "      <td id=\"T_ddca7_row3_col12\" class=\"data row3 col12\" >0</td>\n",
              "      <td id=\"T_ddca7_row3_col13\" class=\"data row3 col13\" >0</td>\n",
              "      <td id=\"T_ddca7_row3_col14\" class=\"data row3 col14\" >0</td>\n",
              "      <td id=\"T_ddca7_row3_col15\" class=\"data row3 col15\" >18</td>\n",
              "      <td id=\"T_ddca7_row3_col16\" class=\"data row3 col16\" >131</td>\n",
              "      <td id=\"T_ddca7_row3_col17\" class=\"data row3 col17\" >254</td>\n",
              "    </tr>\n",
              "    <tr>\n",
              "      <th id=\"T_ddca7_level0_row4\" class=\"row_heading level0 row4\" >4</th>\n",
              "      <td id=\"T_ddca7_row4_col0\" class=\"data row4 col0\" >0</td>\n",
              "      <td id=\"T_ddca7_row4_col1\" class=\"data row4 col1\" >0</td>\n",
              "      <td id=\"T_ddca7_row4_col2\" class=\"data row4 col2\" >0</td>\n",
              "      <td id=\"T_ddca7_row4_col3\" class=\"data row4 col3\" >0</td>\n",
              "      <td id=\"T_ddca7_row4_col4\" class=\"data row4 col4\" >0</td>\n",
              "      <td id=\"T_ddca7_row4_col5\" class=\"data row4 col5\" >9</td>\n",
              "      <td id=\"T_ddca7_row4_col6\" class=\"data row4 col6\" >220</td>\n",
              "      <td id=\"T_ddca7_row4_col7\" class=\"data row4 col7\" >254</td>\n",
              "      <td id=\"T_ddca7_row4_col8\" class=\"data row4 col8\" >254</td>\n",
              "      <td id=\"T_ddca7_row4_col9\" class=\"data row4 col9\" >230</td>\n",
              "      <td id=\"T_ddca7_row4_col10\" class=\"data row4 col10\" >104</td>\n",
              "      <td id=\"T_ddca7_row4_col11\" class=\"data row4 col11\" >0</td>\n",
              "      <td id=\"T_ddca7_row4_col12\" class=\"data row4 col12\" >0</td>\n",
              "      <td id=\"T_ddca7_row4_col13\" class=\"data row4 col13\" >0</td>\n",
              "      <td id=\"T_ddca7_row4_col14\" class=\"data row4 col14\" >65</td>\n",
              "      <td id=\"T_ddca7_row4_col15\" class=\"data row4 col15\" >216</td>\n",
              "      <td id=\"T_ddca7_row4_col16\" class=\"data row4 col16\" >254</td>\n",
              "      <td id=\"T_ddca7_row4_col17\" class=\"data row4 col17\" >254</td>\n",
              "    </tr>\n",
              "    <tr>\n",
              "      <th id=\"T_ddca7_level0_row5\" class=\"row_heading level0 row5\" >5</th>\n",
              "      <td id=\"T_ddca7_row5_col0\" class=\"data row5 col0\" >0</td>\n",
              "      <td id=\"T_ddca7_row5_col1\" class=\"data row5 col1\" >0</td>\n",
              "      <td id=\"T_ddca7_row5_col2\" class=\"data row5 col2\" >0</td>\n",
              "      <td id=\"T_ddca7_row5_col3\" class=\"data row5 col3\" >0</td>\n",
              "      <td id=\"T_ddca7_row5_col4\" class=\"data row5 col4\" >0</td>\n",
              "      <td id=\"T_ddca7_row5_col5\" class=\"data row5 col5\" >169</td>\n",
              "      <td id=\"T_ddca7_row5_col6\" class=\"data row5 col6\" >254</td>\n",
              "      <td id=\"T_ddca7_row5_col7\" class=\"data row5 col7\" >254</td>\n",
              "      <td id=\"T_ddca7_row5_col8\" class=\"data row5 col8\" >231</td>\n",
              "      <td id=\"T_ddca7_row5_col9\" class=\"data row5 col9\" >126</td>\n",
              "      <td id=\"T_ddca7_row5_col10\" class=\"data row5 col10\" >40</td>\n",
              "      <td id=\"T_ddca7_row5_col11\" class=\"data row5 col11\" >11</td>\n",
              "      <td id=\"T_ddca7_row5_col12\" class=\"data row5 col12\" >70</td>\n",
              "      <td id=\"T_ddca7_row5_col13\" class=\"data row5 col13\" >180</td>\n",
              "      <td id=\"T_ddca7_row5_col14\" class=\"data row5 col14\" >254</td>\n",
              "      <td id=\"T_ddca7_row5_col15\" class=\"data row5 col15\" >254</td>\n",
              "      <td id=\"T_ddca7_row5_col16\" class=\"data row5 col16\" >254</td>\n",
              "      <td id=\"T_ddca7_row5_col17\" class=\"data row5 col17\" >254</td>\n",
              "    </tr>\n",
              "    <tr>\n",
              "      <th id=\"T_ddca7_level0_row6\" class=\"row_heading level0 row6\" >6</th>\n",
              "      <td id=\"T_ddca7_row6_col0\" class=\"data row6 col0\" >0</td>\n",
              "      <td id=\"T_ddca7_row6_col1\" class=\"data row6 col1\" >0</td>\n",
              "      <td id=\"T_ddca7_row6_col2\" class=\"data row6 col2\" >0</td>\n",
              "      <td id=\"T_ddca7_row6_col3\" class=\"data row6 col3\" >40</td>\n",
              "      <td id=\"T_ddca7_row6_col4\" class=\"data row6 col4\" >183</td>\n",
              "      <td id=\"T_ddca7_row6_col5\" class=\"data row6 col5\" >251</td>\n",
              "      <td id=\"T_ddca7_row6_col6\" class=\"data row6 col6\" >254</td>\n",
              "      <td id=\"T_ddca7_row6_col7\" class=\"data row6 col7\" >226</td>\n",
              "      <td id=\"T_ddca7_row6_col8\" class=\"data row6 col8\" >81</td>\n",
              "      <td id=\"T_ddca7_row6_col9\" class=\"data row6 col9\" >70</td>\n",
              "      <td id=\"T_ddca7_row6_col10\" class=\"data row6 col10\" >180</td>\n",
              "      <td id=\"T_ddca7_row6_col11\" class=\"data row6 col11\" >229</td>\n",
              "      <td id=\"T_ddca7_row6_col12\" class=\"data row6 col12\" >254</td>\n",
              "      <td id=\"T_ddca7_row6_col13\" class=\"data row6 col13\" >254</td>\n",
              "      <td id=\"T_ddca7_row6_col14\" class=\"data row6 col14\" >254</td>\n",
              "      <td id=\"T_ddca7_row6_col15\" class=\"data row6 col15\" >254</td>\n",
              "      <td id=\"T_ddca7_row6_col16\" class=\"data row6 col16\" >254</td>\n",
              "      <td id=\"T_ddca7_row6_col17\" class=\"data row6 col17\" >254</td>\n",
              "    </tr>\n",
              "    <tr>\n",
              "      <th id=\"T_ddca7_level0_row7\" class=\"row_heading level0 row7\" >7</th>\n",
              "      <td id=\"T_ddca7_row7_col0\" class=\"data row7 col0\" >0</td>\n",
              "      <td id=\"T_ddca7_row7_col1\" class=\"data row7 col1\" >0</td>\n",
              "      <td id=\"T_ddca7_row7_col2\" class=\"data row7 col2\" >7</td>\n",
              "      <td id=\"T_ddca7_row7_col3\" class=\"data row7 col3\" >208</td>\n",
              "      <td id=\"T_ddca7_row7_col4\" class=\"data row7 col4\" >254</td>\n",
              "      <td id=\"T_ddca7_row7_col5\" class=\"data row7 col5\" >254</td>\n",
              "      <td id=\"T_ddca7_row7_col6\" class=\"data row7 col6\" >255</td>\n",
              "      <td id=\"T_ddca7_row7_col7\" class=\"data row7 col7\" >254</td>\n",
              "      <td id=\"T_ddca7_row7_col8\" class=\"data row7 col8\" >254</td>\n",
              "      <td id=\"T_ddca7_row7_col9\" class=\"data row7 col9\" >254</td>\n",
              "      <td id=\"T_ddca7_row7_col10\" class=\"data row7 col10\" >255</td>\n",
              "      <td id=\"T_ddca7_row7_col11\" class=\"data row7 col11\" >254</td>\n",
              "      <td id=\"T_ddca7_row7_col12\" class=\"data row7 col12\" >254</td>\n",
              "      <td id=\"T_ddca7_row7_col13\" class=\"data row7 col13\" >254</td>\n",
              "      <td id=\"T_ddca7_row7_col14\" class=\"data row7 col14\" >254</td>\n",
              "      <td id=\"T_ddca7_row7_col15\" class=\"data row7 col15\" >254</td>\n",
              "      <td id=\"T_ddca7_row7_col16\" class=\"data row7 col16\" >254</td>\n",
              "      <td id=\"T_ddca7_row7_col17\" class=\"data row7 col17\" >190</td>\n",
              "    </tr>\n",
              "    <tr>\n",
              "      <th id=\"T_ddca7_level0_row8\" class=\"row_heading level0 row8\" >8</th>\n",
              "      <td id=\"T_ddca7_row8_col0\" class=\"data row8 col0\" >0</td>\n",
              "      <td id=\"T_ddca7_row8_col1\" class=\"data row8 col1\" >0</td>\n",
              "      <td id=\"T_ddca7_row8_col2\" class=\"data row8 col2\" >53</td>\n",
              "      <td id=\"T_ddca7_row8_col3\" class=\"data row8 col3\" >254</td>\n",
              "      <td id=\"T_ddca7_row8_col4\" class=\"data row8 col4\" >254</td>\n",
              "      <td id=\"T_ddca7_row8_col5\" class=\"data row8 col5\" >254</td>\n",
              "      <td id=\"T_ddca7_row8_col6\" class=\"data row8 col6\" >254</td>\n",
              "      <td id=\"T_ddca7_row8_col7\" class=\"data row8 col7\" >254</td>\n",
              "      <td id=\"T_ddca7_row8_col8\" class=\"data row8 col8\" >253</td>\n",
              "      <td id=\"T_ddca7_row8_col9\" class=\"data row8 col9\" >250</td>\n",
              "      <td id=\"T_ddca7_row8_col10\" class=\"data row8 col10\" >212</td>\n",
              "      <td id=\"T_ddca7_row8_col11\" class=\"data row8 col11\" >169</td>\n",
              "      <td id=\"T_ddca7_row8_col12\" class=\"data row8 col12\" >125</td>\n",
              "      <td id=\"T_ddca7_row8_col13\" class=\"data row8 col13\" >167</td>\n",
              "      <td id=\"T_ddca7_row8_col14\" class=\"data row8 col14\" >254</td>\n",
              "      <td id=\"T_ddca7_row8_col15\" class=\"data row8 col15\" >254</td>\n",
              "      <td id=\"T_ddca7_row8_col16\" class=\"data row8 col16\" >241</td>\n",
              "      <td id=\"T_ddca7_row8_col17\" class=\"data row8 col17\" >35</td>\n",
              "    </tr>\n",
              "    <tr>\n",
              "      <th id=\"T_ddca7_level0_row9\" class=\"row_heading level0 row9\" >9</th>\n",
              "      <td id=\"T_ddca7_row9_col0\" class=\"data row9 col0\" >0</td>\n",
              "      <td id=\"T_ddca7_row9_col1\" class=\"data row9 col1\" >0</td>\n",
              "      <td id=\"T_ddca7_row9_col2\" class=\"data row9 col2\" >150</td>\n",
              "      <td id=\"T_ddca7_row9_col3\" class=\"data row9 col3\" >254</td>\n",
              "      <td id=\"T_ddca7_row9_col4\" class=\"data row9 col4\" >254</td>\n",
              "      <td id=\"T_ddca7_row9_col5\" class=\"data row9 col5\" >181</td>\n",
              "      <td id=\"T_ddca7_row9_col6\" class=\"data row9 col6\" >77</td>\n",
              "      <td id=\"T_ddca7_row9_col7\" class=\"data row9 col7\" >77</td>\n",
              "      <td id=\"T_ddca7_row9_col8\" class=\"data row9 col8\" >48</td>\n",
              "      <td id=\"T_ddca7_row9_col9\" class=\"data row9 col9\" >0</td>\n",
              "      <td id=\"T_ddca7_row9_col10\" class=\"data row9 col10\" >0</td>\n",
              "      <td id=\"T_ddca7_row9_col11\" class=\"data row9 col11\" >0</td>\n",
              "      <td id=\"T_ddca7_row9_col12\" class=\"data row9 col12\" >128</td>\n",
              "      <td id=\"T_ddca7_row9_col13\" class=\"data row9 col13\" >254</td>\n",
              "      <td id=\"T_ddca7_row9_col14\" class=\"data row9 col14\" >254</td>\n",
              "      <td id=\"T_ddca7_row9_col15\" class=\"data row9 col15\" >253</td>\n",
              "      <td id=\"T_ddca7_row9_col16\" class=\"data row9 col16\" >57</td>\n",
              "      <td id=\"T_ddca7_row9_col17\" class=\"data row9 col17\" >0</td>\n",
              "    </tr>\n",
              "    <tr>\n",
              "      <th id=\"T_ddca7_level0_row10\" class=\"row_heading level0 row10\" >10</th>\n",
              "      <td id=\"T_ddca7_row10_col0\" class=\"data row10 col0\" >0</td>\n",
              "      <td id=\"T_ddca7_row10_col1\" class=\"data row10 col1\" >0</td>\n",
              "      <td id=\"T_ddca7_row10_col2\" class=\"data row10 col2\" >14</td>\n",
              "      <td id=\"T_ddca7_row10_col3\" class=\"data row10 col3\" >157</td>\n",
              "      <td id=\"T_ddca7_row10_col4\" class=\"data row10 col4\" >195</td>\n",
              "      <td id=\"T_ddca7_row10_col5\" class=\"data row10 col5\" >29</td>\n",
              "      <td id=\"T_ddca7_row10_col6\" class=\"data row10 col6\" >0</td>\n",
              "      <td id=\"T_ddca7_row10_col7\" class=\"data row10 col7\" >0</td>\n",
              "      <td id=\"T_ddca7_row10_col8\" class=\"data row10 col8\" >0</td>\n",
              "      <td id=\"T_ddca7_row10_col9\" class=\"data row10 col9\" >0</td>\n",
              "      <td id=\"T_ddca7_row10_col10\" class=\"data row10 col10\" >0</td>\n",
              "      <td id=\"T_ddca7_row10_col11\" class=\"data row10 col11\" >75</td>\n",
              "      <td id=\"T_ddca7_row10_col12\" class=\"data row10 col12\" >248</td>\n",
              "      <td id=\"T_ddca7_row10_col13\" class=\"data row10 col13\" >254</td>\n",
              "      <td id=\"T_ddca7_row10_col14\" class=\"data row10 col14\" >254</td>\n",
              "      <td id=\"T_ddca7_row10_col15\" class=\"data row10 col15\" >139</td>\n",
              "      <td id=\"T_ddca7_row10_col16\" class=\"data row10 col16\" >0</td>\n",
              "      <td id=\"T_ddca7_row10_col17\" class=\"data row10 col17\" >0</td>\n",
              "    </tr>\n",
              "  </tbody>\n",
              "</table>\n"
            ]
          },
          "metadata": {},
          "execution_count": 31
        }
      ]
    },
    {
      "cell_type": "markdown",
      "metadata": {
        "id": "s0YxeRWvlY15"
      },
      "source": [
        "## First Try: Pixel Similarity"
      ]
    },
    {
      "cell_type": "code",
      "execution_count": null,
      "metadata": {
        "id": "rn0DRRJ-lY15",
        "outputId": "63e3bb3c-062a-4170-a51a-2f500af3a337",
        "colab": {
          "base_uri": "https://localhost:8080/"
        }
      },
      "outputs": [
        {
          "output_type": "execute_result",
          "data": {
            "text/plain": [
              "(6131, 6265)"
            ]
          },
          "metadata": {},
          "execution_count": 32
        }
      ],
      "source": [
        "seven_tensors = [tensor(Image.open(o)) for o in sevens]\n",
        "three_tensors = [tensor(Image.open(o)) for o in threes]\n",
        "len(three_tensors),len(seven_tensors)"
      ]
    },
    {
      "cell_type": "code",
      "execution_count": null,
      "metadata": {
        "id": "Ltynr_V2lY16",
        "outputId": "82710d9f-7bd6-4455-ee03-8034e173400f",
        "colab": {
          "base_uri": "https://localhost:8080/",
          "height": 114
        }
      },
      "outputs": [
        {
          "output_type": "display_data",
          "data": {
            "text/plain": [
              "<Figure size 100x100 with 1 Axes>"
            ],
            "image/png": "[encoded data removed]"
          },
          "metadata": {}
        }
      ],
      "source": [
        "show_image(three_tensors[1]);"
      ]
    },
    {
      "cell_type": "code",
      "source": [
        "show_image(seven_tensors[1]);"
      ],
      "metadata": {
        "id": "vnQVJ9qhxcVs",
        "outputId": "db877205-7760-4d0d-c640-a673ac8c7131",
        "colab": {
          "base_uri": "https://localhost:8080/",
          "height": 114
        }
      },
      "execution_count": null,
      "outputs": [
        {
          "output_type": "display_data",
          "data": {
            "text/plain": [
              "<Figure size 100x100 with 1 Axes>"
            ],
            "image/png": "[encoded data removed]"
          },
          "metadata": {}
        }
      ]
    },
    {
      "cell_type": "code",
      "execution_count": null,
      "metadata": {
        "id": "bxAEVFdIlY16",
        "outputId": "b7a0313e-5a66-4e79-b5c3-19c8f3139a2d",
        "colab": {
          "base_uri": "https://localhost:8080/"
        }
      },
      "outputs": [
        {
          "output_type": "stream",
          "name": "stdout",
          "text": [
            "stacked_threes = torch.Size([6131, 28, 28])\n",
            "stacked_sevens = torch.Size([6265, 28, 28])\n"
          ]
        }
      ],
      "source": [
        "stacked_sevens = torch.stack(seven_tensors).float()/255\n",
        "stacked_threes = torch.stack(three_tensors).float()/255\n",
        "print(\"stacked_threes =\",stacked_threes.shape)\n",
        "print(\"stacked_sevens =\",stacked_sevens.shape)"
      ]
    },
    {
      "cell_type": "code",
      "execution_count": null,
      "metadata": {
        "id": "j0DoV7uqlY17",
        "outputId": "884f9396-2e05-4491-902f-a291a35bb125",
        "colab": {
          "base_uri": "https://localhost:8080/"
        }
      },
      "outputs": [
        {
          "output_type": "stream",
          "name": "stdout",
          "text": [
            "Length of stacked_threes and stacked_sevens\n",
            "\n",
            "Threes =  3\n",
            "Sevens =  3\n"
          ]
        }
      ],
      "source": [
        "print(\"Length of stacked_threes and stacked_sevens\\n\")\n",
        "print(\"Threes = \", len(stacked_threes.shape))\n",
        "print(\"Sevens = \", len(stacked_sevens.shape))"
      ]
    },
    {
      "cell_type": "code",
      "execution_count": null,
      "metadata": {
        "id": "ma8KM-lKlY17",
        "outputId": "cb6e809d-7021-4287-9f6b-39a5f66e0f68",
        "colab": {
          "base_uri": "https://localhost:8080/"
        }
      },
      "outputs": [
        {
          "output_type": "stream",
          "name": "stdout",
          "text": [
            "Length of stacked_threes and stacked_sevens using ndim\n",
            "\n",
            "Threes =  3\n",
            "Sevens =  3\n"
          ]
        }
      ],
      "source": [
        "print(\"Length of stacked_threes and stacked_sevens using ndim\\n\")\n",
        "print(\"Threes = \", stacked_threes.ndim)\n",
        "print(\"Sevens = \", stacked_sevens.ndim)"
      ]
    },
    {
      "cell_type": "code",
      "execution_count": null,
      "metadata": {
        "id": "Y3qbwuyMlY18",
        "outputId": "7d416709-19ae-4535-cf6c-d460dda0c348",
        "colab": {
          "base_uri": "https://localhost:8080/",
          "height": 114
        }
      },
      "outputs": [
        {
          "output_type": "display_data",
          "data": {
            "text/plain": [
              "<Figure size 100x100 with 1 Axes>"
            ],
            "image/png": "[encoded data removed]"
          },
          "metadata": {}
        }
      ],
      "source": [
        "mean3 = stacked_threes.mean(0)\n",
        "show_image(mean3);"
      ]
    },
    {
      "cell_type": "code",
      "execution_count": null,
      "metadata": {
        "id": "mFamQO_5lY18",
        "outputId": "5eed89a3-e6de-4f9f-c1ff-e185501f1682",
        "colab": {
          "base_uri": "https://localhost:8080/",
          "height": 114
        }
      },
      "outputs": [
        {
          "output_type": "display_data",
          "data": {
            "text/plain": [
              "<Figure size 100x100 with 1 Axes>"
            ],
            "image/png": "[encoded data removed]"
          },
          "metadata": {}
        }
      ],
      "source": [
        "mean7 = stacked_sevens.mean(0)\n",
        "show_image(mean7);"
      ]
    },
    {
      "cell_type": "code",
      "execution_count": null,
      "metadata": {
        "id": "bTQalGqTlY19",
        "outputId": "e6e000b1-44d9-41a4-a0a0-a5252014f01a",
        "colab": {
          "base_uri": "https://localhost:8080/",
          "height": 114
        }
      },
      "outputs": [
        {
          "output_type": "display_data",
          "data": {
            "text/plain": [
              "<Figure size 100x100 with 1 Axes>"
            ],
            "image/png": "[encoded data removed]"
          },
          "metadata": {}
        }
      ],
      "source": [
        "a_3 = stacked_threes[1]\n",
        "show_image(a_3);"
      ]
    },
    {
      "cell_type": "code",
      "execution_count": null,
      "metadata": {
        "id": "2-KNNWizlY19",
        "outputId": "2d4e2560-8f79-4b22-c717-aa9731e84cb4",
        "colab": {
          "base_uri": "https://localhost:8080/"
        }
      },
      "outputs": [
        {
          "output_type": "execute_result",
          "data": {
            "text/plain": [
              "(tensor(0.1114), tensor(0.2021))"
            ]
          },
          "metadata": {},
          "execution_count": 41
        }
      ],
      "source": [
        "dist_3_abs = (a_3 - mean3).abs().mean()\n",
        "dist_3_sqr = ((a_3 - mean3)**2).mean().sqrt()\n",
        "dist_3_abs,dist_3_sqr"
      ]
    },
    {
      "cell_type": "code",
      "execution_count": null,
      "metadata": {
        "id": "IyHui-IXlY19",
        "outputId": "660203b1-3e11-467e-d9a8-15a469fa40cb",
        "colab": {
          "base_uri": "https://localhost:8080/"
        }
      },
      "outputs": [
        {
          "output_type": "execute_result",
          "data": {
            "text/plain": [
              "(tensor(0.1586), tensor(0.3021))"
            ]
          },
          "metadata": {},
          "execution_count": 42
        }
      ],
      "source": [
        "dist_7_abs = (a_3 - mean7).abs().mean()\n",
        "dist_7_sqr = ((a_3 - mean7)**2).mean().sqrt()\n",
        "dist_7_abs,dist_7_sqr"
      ]
    },
    {
      "cell_type": "code",
      "execution_count": null,
      "metadata": {
        "id": "0ED0OOEdlY1-",
        "colab": {
          "base_uri": "https://localhost:8080/"
        },
        "outputId": "6f30ca50-3373-4030-992e-f55172702ca2"
      },
      "outputs": [
        {
          "output_type": "execute_result",
          "data": {
            "text/plain": [
              "(tensor(0.1586), tensor(0.3021))"
            ]
          },
          "metadata": {},
          "execution_count": 43
        }
      ],
      "source": [
        "F.l1_loss(a_3.float(),mean7), F.mse_loss(a_3,mean7).sqrt()"
      ]
    },
    {
      "cell_type": "markdown",
      "metadata": {
        "id": "EAId864XlY1-"
      },
      "source": [
        "### NumPy Arrays and PyTorch Tensors"
      ]
    },
    {
      "cell_type": "code",
      "execution_count": null,
      "metadata": {
        "id": "LBoGk4GmlY1_"
      },
      "outputs": [],
      "source": [
        "data = [[1,2,3],[4,5,6]]\n",
        "arr = array (data)\n",
        "tns = tensor(data)"
      ]
    },
    {
      "cell_type": "code",
      "execution_count": null,
      "metadata": {
        "id": "LIB5ffhslY1_",
        "colab": {
          "base_uri": "https://localhost:8080/"
        },
        "outputId": "8dce863d-f4b3-4cd6-8911-3a714f8df3cc"
      },
      "outputs": [
        {
          "output_type": "execute_result",
          "data": {
            "text/plain": [
              "array([[1, 2, 3],\n",
              "       [4, 5, 6]])"
            ]
          },
          "metadata": {},
          "execution_count": 4
        }
      ],
      "source": [
        "arr  # numpy"
      ]
    },
    {
      "cell_type": "code",
      "execution_count": null,
      "metadata": {
        "id": "WZu_iG95lY2A",
        "colab": {
          "base_uri": "https://localhost:8080/"
        },
        "outputId": "17c782c3-bbce-4f9b-f99f-204b9cbf8e98"
      },
      "outputs": [
        {
          "output_type": "execute_result",
          "data": {
            "text/plain": [
              "tensor([[1, 2, 3],\n",
              "        [4, 5, 6]])"
            ]
          },
          "metadata": {},
          "execution_count": 5
        }
      ],
      "source": [
        "tns  # pytorch"
      ]
    },
    {
      "cell_type": "code",
      "execution_count": null,
      "metadata": {
        "id": "V_8hKEoilY2A",
        "colab": {
          "base_uri": "https://localhost:8080/"
        },
        "outputId": "4275ffee-a8cc-4a61-9c76-ac61c1e9d01b"
      },
      "outputs": [
        {
          "output_type": "execute_result",
          "data": {
            "text/plain": [
              "tensor([4, 5, 6])"
            ]
          },
          "metadata": {},
          "execution_count": 6
        }
      ],
      "source": [
        "tns[1]"
      ]
    },
    {
      "cell_type": "code",
      "execution_count": null,
      "metadata": {
        "id": "j8wN6K_clY2B",
        "colab": {
          "base_uri": "https://localhost:8080/"
        },
        "outputId": "17b8b77e-db6f-4c1d-8072-5e22acb885b6"
      },
      "outputs": [
        {
          "output_type": "execute_result",
          "data": {
            "text/plain": [
              "tensor([2, 5])"
            ]
          },
          "metadata": {},
          "execution_count": 7
        }
      ],
      "source": [
        "tns[:,1]"
      ]
    },
    {
      "cell_type": "code",
      "execution_count": null,
      "metadata": {
        "id": "mJcsabg5lY2C",
        "colab": {
          "base_uri": "https://localhost:8080/"
        },
        "outputId": "f312c678-5cf6-4999-92a2-f47171caf8bc"
      },
      "outputs": [
        {
          "output_type": "execute_result",
          "data": {
            "text/plain": [
              "tensor([5, 6])"
            ]
          },
          "metadata": {},
          "execution_count": 8
        }
      ],
      "source": [
        "tns[1,1:3]"
      ]
    },
    {
      "cell_type": "code",
      "execution_count": null,
      "metadata": {
        "id": "gnvz2BdXlY2C",
        "colab": {
          "base_uri": "https://localhost:8080/"
        },
        "outputId": "ee7d702c-b4de-4205-bfd6-cd07173074a5"
      },
      "outputs": [
        {
          "output_type": "execute_result",
          "data": {
            "text/plain": [
              "tensor([[2, 3, 4],\n",
              "        [5, 6, 7]])"
            ]
          },
          "metadata": {},
          "execution_count": 9
        }
      ],
      "source": [
        "tns+1"
      ]
    },
    {
      "cell_type": "code",
      "execution_count": null,
      "metadata": {
        "id": "Zj4rXFcSlY2D",
        "colab": {
          "base_uri": "https://localhost:8080/",
          "height": 35
        },
        "outputId": "d1c52448-2889-4291-8edc-acab3b025ab6"
      },
      "outputs": [
        {
          "output_type": "execute_result",
          "data": {
            "text/plain": [
              "'torch.LongTensor'"
            ],
            "application/vnd.google.colaboratory.intrinsic+json": {
              "type": "string"
            }
          },
          "metadata": {},
          "execution_count": 10
        }
      ],
      "source": [
        "tns.type()"
      ]
    },
    {
      "cell_type": "code",
      "execution_count": null,
      "metadata": {
        "id": "E_kW9fHblY2D",
        "colab": {
          "base_uri": "https://localhost:8080/"
        },
        "outputId": "86967c3a-6202-46dd-e2ef-2f7c5587a64d"
      },
      "outputs": [
        {
          "output_type": "execute_result",
          "data": {
            "text/plain": [
              "tensor([[1.5000, 3.0000, 4.5000],\n",
              "        [6.0000, 7.5000, 9.0000]])"
            ]
          },
          "metadata": {},
          "execution_count": 11
        }
      ],
      "source": [
        "tns*1.5"
      ]
    },
    {
      "cell_type": "markdown",
      "metadata": {
        "id": "lyGasSCFlY2E"
      },
      "source": [
        "## Computing Metrics Using Broadcasting"
      ]
    },
    {
      "cell_type": "code",
      "execution_count": null,
      "metadata": {
        "id": "LRSG9jb6lY2E",
        "colab": {
          "base_uri": "https://localhost:8080/"
        },
        "outputId": "b71a5546-7916-4b23-9594-44ec941c289e"
      },
      "outputs": [
        {
          "output_type": "execute_result",
          "data": {
            "text/plain": [
              "(torch.Size([1010, 28, 28]), torch.Size([1028, 28, 28]))"
            ]
          },
          "metadata": {},
          "execution_count": 20
        }
      ],
      "source": [
        "valid_3_tens = torch.stack([tensor(Image.open(o))\n",
        "                            for o in (path/'valid'/'3').ls()])\n",
        "valid_3_tens = valid_3_tens.float()/255\n",
        "valid_7_tens = torch.stack([tensor(Image.open(o))\n",
        "                            for o in (path/'valid'/'7').ls()])\n",
        "valid_7_tens = valid_7_tens.float()/255\n",
        "valid_3_tens.shape,valid_7_tens.shape"
      ]
    },
    {
      "cell_type": "code",
      "execution_count": null,
      "metadata": {
        "id": "u_v2oYh6lY2Y",
        "colab": {
          "base_uri": "https://localhost:8080/"
        },
        "outputId": "dc9c975c-7b44-45b6-baf0-ead8ac2137d4"
      },
      "outputs": [
        {
          "output_type": "execute_result",
          "data": {
            "text/plain": [
              "tensor(0.1114)"
            ]
          },
          "metadata": {},
          "execution_count": 44
        }
      ],
      "source": [
        "def mnist_distance(a,b): return (a-b).abs().mean((-1,-2))\n",
        "mnist_distance(a_3, mean3)"
      ]
    },
    {
      "cell_type": "code",
      "execution_count": null,
      "metadata": {
        "id": "2ATpwbXplY2Y",
        "colab": {
          "base_uri": "https://localhost:8080/"
        },
        "outputId": "d4af2c30-c4ed-4f73-aec8-c98175b67383"
      },
      "outputs": [
        {
          "output_type": "execute_result",
          "data": {
            "text/plain": [
              "(tensor([0.1261, 0.1323, 0.1234,  ..., 0.1152, 0.1414, 0.1172]),\n",
              " torch.Size([1010]))"
            ]
          },
          "metadata": {},
          "execution_count": 45
        }
      ],
      "source": [
        "valid_3_dist = mnist_distance(valid_3_tens, mean3)\n",
        "valid_3_dist, valid_3_dist.shape"
      ]
    },
    {
      "cell_type": "code",
      "execution_count": null,
      "metadata": {
        "id": "WOyuSufrlY2Z",
        "colab": {
          "base_uri": "https://localhost:8080/"
        },
        "outputId": "96b81123-33b1-4cf9-8c1a-f59c24d0e7ad"
      },
      "outputs": [
        {
          "output_type": "execute_result",
          "data": {
            "text/plain": [
              "tensor([2, 3, 4])"
            ]
          },
          "metadata": {},
          "execution_count": 46
        }
      ],
      "source": [
        "tensor([1,2,3]) + tensor(1)"
      ]
    },
    {
      "cell_type": "code",
      "execution_count": null,
      "metadata": {
        "id": "jhwSaspdlY2Z",
        "colab": {
          "base_uri": "https://localhost:8080/"
        },
        "outputId": "d2942632-1e77-42cd-eab0-bffd10200350"
      },
      "outputs": [
        {
          "output_type": "execute_result",
          "data": {
            "text/plain": [
              "torch.Size([1010, 28, 28])"
            ]
          },
          "metadata": {},
          "execution_count": 47
        }
      ],
      "source": [
        "(valid_3_tens-mean3).shape"
      ]
    },
    {
      "cell_type": "code",
      "execution_count": null,
      "metadata": {
        "id": "HytY-LeUlY2a"
      },
      "outputs": [],
      "source": [
        "def is_3(x): return mnist_distance(x,mean3) < mnist_distance(x,mean7)"
      ]
    },
    {
      "cell_type": "code",
      "execution_count": null,
      "metadata": {
        "id": "sWZIgMZJlY2b",
        "colab": {
          "base_uri": "https://localhost:8080/"
        },
        "outputId": "3e5b8d89-5017-4d8c-aeeb-96d9be7a0230"
      },
      "outputs": [
        {
          "output_type": "execute_result",
          "data": {
            "text/plain": [
              "(tensor(True), tensor(1.))"
            ]
          },
          "metadata": {},
          "execution_count": 49
        }
      ],
      "source": [
        "is_3(a_3), is_3(a_3).float()"
      ]
    },
    {
      "cell_type": "code",
      "execution_count": null,
      "metadata": {
        "id": "-jZOAVJklY2b",
        "colab": {
          "base_uri": "https://localhost:8080/"
        },
        "outputId": "191347b4-3e1f-4be9-d498-8b51e53efcb8"
      },
      "outputs": [
        {
          "output_type": "execute_result",
          "data": {
            "text/plain": [
              "tensor([True, True, True,  ..., True, True, True])"
            ]
          },
          "metadata": {},
          "execution_count": 50
        }
      ],
      "source": [
        "is_3(valid_3_tens)"
      ]
    },
    {
      "cell_type": "code",
      "execution_count": null,
      "metadata": {
        "id": "SvwYs1XIlY2c",
        "colab": {
          "base_uri": "https://localhost:8080/"
        },
        "outputId": "338a31e3-7921-4fcf-ef7f-ad70314e6834"
      },
      "outputs": [
        {
          "output_type": "execute_result",
          "data": {
            "text/plain": [
              "(tensor(0.9168), tensor(0.9854), tensor(0.9511))"
            ]
          },
          "metadata": {},
          "execution_count": 51
        }
      ],
      "source": [
        "accuracy_3s =      is_3(valid_3_tens).float() .mean()\n",
        "accuracy_7s = (1 - is_3(valid_7_tens).float()).mean()\n",
        "\n",
        "accuracy_3s,accuracy_7s,(accuracy_3s+accuracy_7s)/2"
      ]
    },
    {
      "cell_type": "markdown",
      "metadata": {
        "id": "Um8zsNNTlY2c"
      },
      "source": [
        "## Stochastic Gradient Descent (SGD)"
      ]
    },
    {
      "cell_type": "code",
      "execution_count": 3,
      "metadata": {
        "id": "XTQ8UqoMlY2d",
        "outputId": "e7d988be-6dca-45d5-f398-c5082343980b",
        "colab": {
          "base_uri": "https://localhost:8080/",
          "height": 125
        }
      },
      "outputs": [
        {
          "output_type": "execute_result",
          "data": {
            "image/svg+xml": "<?xml version=\"1.0\" encoding=\"UTF-8\" standalone=\"no\"?>\n<!DOCTYPE svg PUBLIC \"-//W3C//DTD SVG 1.1//EN\"\n \"http://www.w3.org/Graphics/SVG/1.1/DTD/svg11.dtd\">\n<!-- Generated by graphviz version 2.43.0 (0)\n -->\n<!-- Title: G Pages: 1 -->\n<svg width=\"591pt\" height=\"78pt\"\n viewBox=\"0.00 0.00 591.49 78.00\" xmlns=\"http://www.w3.org/2000/svg\" xmlns:xlink=\"http://www.w3.org/1999/xlink\">\n<g id=\"graph0\" class=\"graph\" transform=\"scale(1 1) rotate(0) translate(4 74)\">\n<title>G</title>\n<polygon fill=\"white\" stroke=\"transparent\" points=\"-4,4 -4,-74 587.49,-74 587.49,4 -4,4\"/>\n<!-- init -->\n<g id=\"node1\" class=\"node\">\n<title>init</title>\n<ellipse fill=\"none\" stroke=\"black\" cx=\"27\" cy=\"-18\" rx=\"27\" ry=\"18\"/>\n<text text-anchor=\"middle\" x=\"27\" y=\"-14.3\" font-family=\"Times,serif\" font-size=\"14.00\">init</text>\n</g>\n<!-- predict -->\n<g id=\"node2\" class=\"node\">\n<title>predict</title>\n<ellipse fill=\"none\" stroke=\"black\" cx=\"126.1\" cy=\"-18\" rx=\"35.19\" ry=\"18\"/>\n<text text-anchor=\"middle\" x=\"126.1\" y=\"-14.3\" font-family=\"Times,serif\" font-size=\"14.00\">predict</text>\n</g>\n<!-- init&#45;&gt;predict -->\n<g id=\"edge1\" class=\"edge\">\n<title>init&#45;&gt;predict</title>\n<path fill=\"none\" stroke=\"black\" d=\"M54.02,-18C62.26,-18 71.62,-18 80.78,-18\"/>\n<polygon fill=\"black\" stroke=\"black\" points=\"80.96,-21.5 90.96,-18 80.96,-14.5 80.96,-21.5\"/>\n</g>\n<!-- loss -->\n<g id=\"node3\" class=\"node\">\n<title>loss</title>\n<ellipse fill=\"none\" stroke=\"black\" cx=\"225.19\" cy=\"-52\" rx=\"27\" ry=\"18\"/>\n<text text-anchor=\"middle\" x=\"225.19\" y=\"-48.3\" font-family=\"Times,serif\" font-size=\"14.00\">loss</text>\n</g>\n<!-- predict&#45;&gt;loss -->\n<g id=\"edge2\" class=\"edge\">\n<title>predict&#45;&gt;loss</title>\n<path fill=\"none\" stroke=\"black\" d=\"M155.44,-27.93C166.61,-31.84 179.52,-36.36 191.11,-40.42\"/>\n<polygon fill=\"black\" stroke=\"black\" points=\"190.29,-43.84 200.88,-43.84 192.6,-37.23 190.29,-43.84\"/>\n</g>\n<!-- gradient -->\n<g id=\"node4\" class=\"node\">\n<title>gradient</title>\n<ellipse fill=\"none\" stroke=\"black\" cx=\"361.84\" cy=\"-52\" rx=\"39.79\" ry=\"18\"/>\n<text text-anchor=\"middle\" x=\"361.84\" y=\"-48.3\" font-family=\"Times,serif\" font-size=\"14.00\">gradient</text>\n</g>\n<!-- loss&#45;&gt;gradient -->\n<g id=\"edge3\" class=\"edge\">\n<title>loss&#45;&gt;gradient</title>\n<path fill=\"none\" stroke=\"black\" d=\"M252.47,-52C269.35,-52 291.8,-52 311.88,-52\"/>\n<polygon fill=\"black\" stroke=\"black\" points=\"312.13,-55.5 322.13,-52 312.13,-48.5 312.13,-55.5\"/>\n</g>\n<!-- step -->\n<g id=\"node5\" class=\"node\">\n<title>step</title>\n<ellipse fill=\"none\" stroke=\"black\" cx=\"465.49\" cy=\"-18\" rx=\"27\" ry=\"18\"/>\n<text text-anchor=\"middle\" x=\"465.49\" y=\"-14.3\" font-family=\"Times,serif\" font-size=\"14.00\">step</text>\n</g>\n<!-- gradient&#45;&gt;step -->\n<g id=\"edge4\" class=\"edge\">\n<title>gradient&#45;&gt;step</title>\n<path fill=\"none\" stroke=\"black\" d=\"M394.17,-41.52C405.92,-37.59 419.32,-33.11 431.25,-29.12\"/>\n<polygon fill=\"black\" stroke=\"black\" points=\"432.48,-32.4 440.85,-25.91 430.26,-25.76 432.48,-32.4\"/>\n</g>\n<!-- step&#45;&gt;predict -->\n<g id=\"edge6\" class=\"edge\">\n<title>step&#45;&gt;predict</title>\n<path fill=\"none\" stroke=\"black\" d=\"M438.29,-18C380.72,-18 242.6,-18 171.32,-18\"/>\n<polygon fill=\"black\" stroke=\"black\" points=\"171.3,-14.5 161.3,-18 171.3,-21.5 171.3,-14.5\"/>\n<text text-anchor=\"middle\" x=\"287.19\" y=\"-21.8\" font-family=\"Times,serif\" font-size=\"14.00\">repeat</text>\n</g>\n<!-- stop -->\n<g id=\"node6\" class=\"node\">\n<title>stop</title>\n<ellipse fill=\"none\" stroke=\"black\" cx=\"556.49\" cy=\"-18\" rx=\"27\" ry=\"18\"/>\n<text text-anchor=\"middle\" x=\"556.49\" y=\"-14.3\" font-family=\"Times,serif\" font-size=\"14.00\">stop</text>\n</g>\n<!-- step&#45;&gt;stop -->\n<g id=\"edge5\" class=\"edge\">\n<title>step&#45;&gt;stop</title>\n<path fill=\"none\" stroke=\"black\" d=\"M492.71,-18C501.04,-18 510.4,-18 519.3,-18\"/>\n<polygon fill=\"black\" stroke=\"black\" points=\"519.45,-21.5 529.45,-18 519.45,-14.5 519.45,-21.5\"/>\n</g>\n</g>\n</svg>\n",
            "text/plain": [
              "<graphviz.sources.Source at 0x78812c60b8e0>"
            ]
          },
          "metadata": {},
          "execution_count": 3
        }
      ],
      "source": [
        "gv('''\n",
        "init->predict->loss->gradient->step->stop\n",
        "step->predict[label=repeat]\n",
        "''')"
      ]
    },
    {
      "cell_type": "code",
      "execution_count": 4,
      "metadata": {
        "id": "FS8lzy54lY2d"
      },
      "outputs": [],
      "source": [
        "def f(x): return x**2"
      ]
    },
    {
      "cell_type": "code",
      "execution_count": 5,
      "metadata": {
        "id": "CdazYqPAlY2e",
        "outputId": "4dc05725-bc38-4b4b-ecaf-976512373f00",
        "colab": {
          "base_uri": "https://localhost:8080/",
          "height": 396
        }
      },
      "outputs": [
        {
          "output_type": "display_data",
          "data": {
            "text/plain": [
              "<Figure size 600x400 with 1 Axes>"
            ],
            "image/png": "[encoded data removed]"
          },
          "metadata": {}
        }
      ],
      "source": [
        "plot_function(f, 'x', 'x**2')"
      ]
    },
    {
      "cell_type": "code",
      "execution_count": 31,
      "metadata": {
        "id": "RoynVaXOlY2f",
        "outputId": "18e4258c-08fe-47bc-bdb4-e673119456f6",
        "colab": {
          "base_uri": "https://localhost:8080/",
          "height": 396
        }
      },
      "outputs": [
        {
          "output_type": "display_data",
          "data": {
            "text/plain": [
              "<Figure size 600x400 with 1 Axes>"
            ],
            "image/png": "[encoded data removed]"
          },
          "metadata": {}
        }
      ],
      "source": [
        "plot_function(f, 'x', 'x**2')\n",
        "plt.scatter(-1.5, f(-1.5), color='red');"
      ]
    },
    {
      "cell_type": "markdown",
      "metadata": {
        "id": "V0hzT5B0lY2f"
      },
      "source": [
        "### Calculating Gradients"
      ]
    },
    {
      "cell_type": "code",
      "execution_count": 32,
      "metadata": {
        "id": "ASsrZV8hlY2g"
      },
      "outputs": [],
      "source": [
        "xt = tensor(3.).requires_grad_()"
      ]
    },
    {
      "cell_type": "code",
      "execution_count": 33,
      "metadata": {
        "id": "eZL5WKWilY2g",
        "outputId": "8450d2d6-dd54-40f5-eab2-dd79c9019bcf",
        "colab": {
          "base_uri": "https://localhost:8080/"
        }
      },
      "outputs": [
        {
          "output_type": "execute_result",
          "data": {
            "text/plain": [
              "tensor(9., grad_fn=<PowBackward0>)"
            ]
          },
          "metadata": {},
          "execution_count": 33
        }
      ],
      "source": [
        "yt = f(xt)\n",
        "yt"
      ]
    },
    {
      "cell_type": "code",
      "execution_count": 34,
      "metadata": {
        "id": "TIXfj-HBlY2h"
      },
      "outputs": [],
      "source": [
        "yt.backward()"
      ]
    },
    {
      "cell_type": "code",
      "execution_count": 35,
      "metadata": {
        "id": "5VknJUa1lY2i",
        "outputId": "92e087eb-78ff-447b-b210-622418914723",
        "colab": {
          "base_uri": "https://localhost:8080/"
        }
      },
      "outputs": [
        {
          "output_type": "execute_result",
          "data": {
            "text/plain": [
              "tensor(6.)"
            ]
          },
          "metadata": {},
          "execution_count": 35
        }
      ],
      "source": [
        "xt.grad"
      ]
    },
    {
      "cell_type": "code",
      "execution_count": 36,
      "metadata": {
        "id": "Tc5UJQG1lY2i",
        "outputId": "27d6b4cb-7a6c-4e7a-ab78-694e5e8c236f",
        "colab": {
          "base_uri": "https://localhost:8080/"
        }
      },
      "outputs": [
        {
          "output_type": "execute_result",
          "data": {
            "text/plain": [
              "tensor([ 3.,  4., 10.], requires_grad=True)"
            ]
          },
          "metadata": {},
          "execution_count": 36
        }
      ],
      "source": [
        "xt = tensor([3.,4.,10.]).requires_grad_()\n",
        "xt"
      ]
    },
    {
      "cell_type": "code",
      "execution_count": 37,
      "metadata": {
        "id": "GM2tg-uKlY2j",
        "outputId": "732648f3-0209-4c02-f6ec-571cd2980927",
        "colab": {
          "base_uri": "https://localhost:8080/"
        }
      },
      "outputs": [
        {
          "output_type": "execute_result",
          "data": {
            "text/plain": [
              "tensor(125., grad_fn=<SumBackward0>)"
            ]
          },
          "metadata": {},
          "execution_count": 37
        }
      ],
      "source": [
        "def f(x): return (x**2).sum()\n",
        "\n",
        "yt = f(xt)\n",
        "yt"
      ]
    },
    {
      "cell_type": "code",
      "execution_count": 38,
      "metadata": {
        "id": "sXTlJe_elY2k",
        "outputId": "8e4b0e14-a1fe-4adc-ef39-3a9ce9aadc9f",
        "colab": {
          "base_uri": "https://localhost:8080/"
        }
      },
      "outputs": [
        {
          "output_type": "execute_result",
          "data": {
            "text/plain": [
              "tensor([ 6.,  8., 20.])"
            ]
          },
          "metadata": {},
          "execution_count": 38
        }
      ],
      "source": [
        "yt.backward()\n",
        "xt.grad"
      ]
    },
    {
      "cell_type": "markdown",
      "metadata": {
        "id": "7_YQZR8klY2k"
      },
      "source": [
        "### Stepping With a Learning Rate"
      ]
    },
    {
      "cell_type": "markdown",
      "metadata": {
        "id": "Qm_bLrXHlY2l"
      },
      "source": [
        "### An End-to-End SGD Example"
      ]
    },
    {
      "cell_type": "code",
      "execution_count": null,
      "metadata": {
        "id": "34JZpiTilY2l"
      },
      "outputs": [],
      "source": [
        "time = torch.arange(0,20).float(); time"
      ]
    },
    {
      "cell_type": "code",
      "execution_count": null,
      "metadata": {
        "id": "ujYo0NvulY2m"
      },
      "outputs": [],
      "source": [
        "speed = torch.randn(20)*3 + 0.75*(time-9.5)**2 + 1\n",
        "plt.scatter(time,speed);"
      ]
    },
    {
      "cell_type": "code",
      "execution_count": null,
      "metadata": {
        "id": "j1a0cMSLlY2m"
      },
      "outputs": [],
      "source": [
        "def f(t, params):\n",
        "    a,b,c = params\n",
        "    return a*(t**2) + (b*t) + c"
      ]
    },
    {
      "cell_type": "code",
      "execution_count": null,
      "metadata": {
        "id": "mhD_jzUzlY2n"
      },
      "outputs": [],
      "source": [
        "def mse(preds, targets): return ((preds-targets)**2).mean()"
      ]
    },
    {
      "cell_type": "markdown",
      "metadata": {
        "id": "INVb-j_9lY2o"
      },
      "source": [
        "#### Step 1: Initialize the parameters"
      ]
    },
    {
      "cell_type": "code",
      "execution_count": null,
      "metadata": {
        "id": "h8cFiBUJlY2o"
      },
      "outputs": [],
      "source": [
        "params = torch.randn(3).requires_grad_()"
      ]
    },
    {
      "cell_type": "code",
      "execution_count": null,
      "metadata": {
        "id": "kYqf1y7blY2p"
      },
      "outputs": [],
      "source": [
        "#hide\n",
        "orig_params = params.clone()"
      ]
    },
    {
      "cell_type": "markdown",
      "metadata": {
        "id": "ztCuUQVGlY2p"
      },
      "source": [
        "#### Step 2: Calculate the predictions"
      ]
    },
    {
      "cell_type": "code",
      "execution_count": null,
      "metadata": {
        "id": "S5OnPRoolY2q"
      },
      "outputs": [],
      "source": [
        "preds = f(time, params)"
      ]
    },
    {
      "cell_type": "code",
      "execution_count": null,
      "metadata": {
        "id": "ef_4-x2ElY2r"
      },
      "outputs": [],
      "source": [
        "def show_preds(preds, ax=None):\n",
        "    if ax is None: ax=plt.subplots()[1]\n",
        "    ax.scatter(time, speed)\n",
        "    ax.scatter(time, to_np(preds), color='red')\n",
        "    ax.set_ylim(-300,100)"
      ]
    },
    {
      "cell_type": "code",
      "execution_count": null,
      "metadata": {
        "id": "i16fY9WSlY2r"
      },
      "outputs": [],
      "source": [
        "show_preds(preds)"
      ]
    },
    {
      "cell_type": "markdown",
      "metadata": {
        "id": "edPJqS2ulY2s"
      },
      "source": [
        "#### Step 3: Calculate the loss"
      ]
    },
    {
      "cell_type": "code",
      "execution_count": null,
      "metadata": {
        "id": "TE3yRmqulY2s"
      },
      "outputs": [],
      "source": [
        "loss = mse(preds, speed)\n",
        "loss"
      ]
    },
    {
      "cell_type": "markdown",
      "metadata": {
        "id": "218yUCv4lY2t"
      },
      "source": [
        "#### Step 4: Calculate the gradients"
      ]
    },
    {
      "cell_type": "code",
      "execution_count": null,
      "metadata": {
        "id": "MerouOQqlY2u"
      },
      "outputs": [],
      "source": [
        "loss.backward()\n",
        "params.grad"
      ]
    },
    {
      "cell_type": "code",
      "execution_count": null,
      "metadata": {
        "id": "R6eGaN70lY2u"
      },
      "outputs": [],
      "source": [
        "params.grad * 1e-5"
      ]
    },
    {
      "cell_type": "code",
      "execution_count": null,
      "metadata": {
        "id": "c6FhlytYlY2v"
      },
      "outputs": [],
      "source": [
        "params"
      ]
    },
    {
      "cell_type": "markdown",
      "metadata": {
        "id": "N0_IBVBXlY2w"
      },
      "source": [
        "#### Step 5: Step the weights."
      ]
    },
    {
      "cell_type": "code",
      "execution_count": null,
      "metadata": {
        "id": "mLqopVthlY2w"
      },
      "outputs": [],
      "source": [
        "lr = 1e-5\n",
        "params.data -= lr * params.grad.data\n",
        "params.grad = None"
      ]
    },
    {
      "cell_type": "code",
      "execution_count": null,
      "metadata": {
        "id": "Igl1b5e0lY2x"
      },
      "outputs": [],
      "source": [
        "preds = f(time,params)\n",
        "mse(preds, speed)"
      ]
    },
    {
      "cell_type": "code",
      "execution_count": null,
      "metadata": {
        "id": "qc6-KEnslY23"
      },
      "outputs": [],
      "source": [
        "show_preds(preds)"
      ]
    },
    {
      "cell_type": "code",
      "execution_count": null,
      "metadata": {
        "id": "oDoTN7u2lY24"
      },
      "outputs": [],
      "source": [
        "def apply_step(params, prn=True):\n",
        "    preds = f(time, params)\n",
        "    loss = mse(preds, speed)\n",
        "    loss.backward()\n",
        "    params.data -= lr * params.grad.data\n",
        "    params.grad = None\n",
        "    if prn: print(loss.item())\n",
        "    return preds"
      ]
    },
    {
      "cell_type": "markdown",
      "metadata": {
        "id": "SlOK9Y_2lY25"
      },
      "source": [
        "#### Step 6: Repeat the process"
      ]
    },
    {
      "cell_type": "code",
      "execution_count": null,
      "metadata": {
        "id": "4iz8xfrClY25"
      },
      "outputs": [],
      "source": [
        "for i in range(10): apply_step(params)"
      ]
    },
    {
      "cell_type": "code",
      "execution_count": null,
      "metadata": {
        "id": "mGAvnVTylY26"
      },
      "outputs": [],
      "source": [
        "#hide\n",
        "params = orig_params.detach().requires_grad_()"
      ]
    },
    {
      "cell_type": "code",
      "execution_count": null,
      "metadata": {
        "id": "PNPNkRPElY26"
      },
      "outputs": [],
      "source": [
        "_,axs = plt.subplots(1,4,figsize=(12,3))\n",
        "for ax in axs: show_preds(apply_step(params, False), ax)\n",
        "plt.tight_layout()"
      ]
    },
    {
      "cell_type": "markdown",
      "metadata": {
        "id": "5tEh1VHKlY27"
      },
      "source": [
        "#### Step 7: stop"
      ]
    },
    {
      "cell_type": "markdown",
      "metadata": {
        "id": "6yjgblq3lY27"
      },
      "source": [
        "### Summarizing Gradient Descent"
      ]
    },
    {
      "cell_type": "code",
      "execution_count": null,
      "metadata": {
        "id": "o5A3_HsQlY28"
      },
      "outputs": [],
      "source": [
        "gv('''\n",
        "init->predict->loss->gradient->step->stop\n",
        "step->predict[label=repeat]\n",
        "''')"
      ]
    },
    {
      "cell_type": "markdown",
      "metadata": {
        "id": "pe6gsmQ4lY28"
      },
      "source": [
        "## The MNIST Loss Function"
      ]
    },
    {
      "cell_type": "code",
      "execution_count": null,
      "metadata": {
        "id": "SHDjr9BZlY29"
      },
      "outputs": [],
      "source": [
        "train_x = torch.cat([stacked_threes, stacked_sevens]).view(-1, 28*28)"
      ]
    },
    {
      "cell_type": "code",
      "execution_count": null,
      "metadata": {
        "id": "6lmFl1YulY29"
      },
      "outputs": [],
      "source": [
        "train_y = tensor([1]*len(threes) + [0]*len(sevens)).unsqueeze(1)\n",
        "train_x.shape,train_y.shape"
      ]
    },
    {
      "cell_type": "code",
      "execution_count": null,
      "metadata": {
        "id": "4TkMThxglY29"
      },
      "outputs": [],
      "source": [
        "dset = list(zip(train_x,train_y))\n",
        "x,y = dset[0]\n",
        "x.shape,y"
      ]
    },
    {
      "cell_type": "code",
      "execution_count": null,
      "metadata": {
        "id": "lprPlkTLlY2-"
      },
      "outputs": [],
      "source": [
        "valid_x = torch.cat([valid_3_tens, valid_7_tens]).view(-1, 28*28)\n",
        "valid_y = tensor([1]*len(valid_3_tens) + [0]*len(valid_7_tens)).unsqueeze(1)\n",
        "valid_dset = list(zip(valid_x,valid_y))"
      ]
    },
    {
      "cell_type": "code",
      "execution_count": null,
      "metadata": {
        "id": "EZxAUSRLlY2-"
      },
      "outputs": [],
      "source": [
        "def init_params(size, std=1.0): return (torch.randn(size)*std).requires_grad_()"
      ]
    },
    {
      "cell_type": "code",
      "execution_count": null,
      "metadata": {
        "id": "mNNrsaUnlY2-"
      },
      "outputs": [],
      "source": [
        "weights = init_params((28*28,1))"
      ]
    },
    {
      "cell_type": "code",
      "execution_count": null,
      "metadata": {
        "id": "wRB4H09alY2_"
      },
      "outputs": [],
      "source": [
        "bias = init_params(1)"
      ]
    },
    {
      "cell_type": "code",
      "execution_count": null,
      "metadata": {
        "id": "ATZbssrolY2_"
      },
      "outputs": [],
      "source": [
        "(train_x[0]*weights.T).sum() + bias"
      ]
    },
    {
      "cell_type": "code",
      "execution_count": null,
      "metadata": {
        "id": "5Ppu3PNJlY3A"
      },
      "outputs": [],
      "source": [
        "def linear1(xb): return xb@weights + bias\n",
        "preds = linear1(train_x)\n",
        "preds"
      ]
    },
    {
      "cell_type": "code",
      "execution_count": null,
      "metadata": {
        "id": "JV1RnLgnlY3A"
      },
      "outputs": [],
      "source": [
        "corrects = (preds>0.0).float() == train_y\n",
        "corrects"
      ]
    },
    {
      "cell_type": "code",
      "execution_count": null,
      "metadata": {
        "id": "szmMFDk9lY3B"
      },
      "outputs": [],
      "source": [
        "corrects.float().mean().item()"
      ]
    },
    {
      "cell_type": "code",
      "execution_count": null,
      "metadata": {
        "id": "vENC0lwwlY3B"
      },
      "outputs": [],
      "source": [
        "with torch.no_grad(): weights[0] *= 1.0001"
      ]
    },
    {
      "cell_type": "code",
      "execution_count": null,
      "metadata": {
        "id": "yRlUEKrwlY3C"
      },
      "outputs": [],
      "source": [
        "preds = linear1(train_x)\n",
        "((preds>0.0).float() == train_y).float().mean().item()"
      ]
    },
    {
      "cell_type": "code",
      "execution_count": null,
      "metadata": {
        "id": "sKGfNffSlY3C"
      },
      "outputs": [],
      "source": [
        "trgts  = tensor([1,0,1])\n",
        "prds   = tensor([0.9, 0.4, 0.2])"
      ]
    },
    {
      "cell_type": "code",
      "execution_count": null,
      "metadata": {
        "id": "D7Gkl1p0lY3D"
      },
      "outputs": [],
      "source": [
        "def mnist_loss(predictions, targets):\n",
        "    return torch.where(targets==1, 1-predictions, predictions).mean()"
      ]
    },
    {
      "cell_type": "code",
      "execution_count": null,
      "metadata": {
        "id": "UORYrv4zlY3D"
      },
      "outputs": [],
      "source": [
        "torch.where(trgts==1, 1-prds, prds)"
      ]
    },
    {
      "cell_type": "code",
      "execution_count": null,
      "metadata": {
        "id": "1itph-xulY3E"
      },
      "outputs": [],
      "source": [
        "mnist_loss(prds,trgts)"
      ]
    },
    {
      "cell_type": "code",
      "execution_count": null,
      "metadata": {
        "id": "ZqWBqtU9lY3F"
      },
      "outputs": [],
      "source": [
        "mnist_loss(tensor([0.9, 0.4, 0.8]),trgts)"
      ]
    },
    {
      "cell_type": "markdown",
      "metadata": {
        "id": "n5VCCRXzlY3F"
      },
      "source": [
        "### Sigmoid"
      ]
    },
    {
      "cell_type": "code",
      "execution_count": null,
      "metadata": {
        "id": "PI8sI8OflY3G"
      },
      "outputs": [],
      "source": [
        "def sigmoid(x): return 1/(1+torch.exp(-x))"
      ]
    },
    {
      "cell_type": "code",
      "execution_count": null,
      "metadata": {
        "id": "eEFv_dgNlY3G"
      },
      "outputs": [],
      "source": [
        "plot_function(torch.sigmoid, title='Sigmoid', min=-4, max=4)"
      ]
    },
    {
      "cell_type": "code",
      "execution_count": null,
      "metadata": {
        "id": "ZBSvLM5plY3G"
      },
      "outputs": [],
      "source": [
        "def mnist_loss(predictions, targets):\n",
        "    predictions = predictions.sigmoid()\n",
        "    return torch.where(targets==1, 1-predictions, predictions).mean()"
      ]
    },
    {
      "cell_type": "markdown",
      "metadata": {
        "id": "KZaIqIsllY3H"
      },
      "source": [
        "### SGD and Mini-Batches"
      ]
    },
    {
      "cell_type": "code",
      "execution_count": null,
      "metadata": {
        "id": "XNQNzWoxlY3H"
      },
      "outputs": [],
      "source": [
        "coll = range(15)\n",
        "dl = DataLoader(coll, batch_size=5, shuffle=True)\n",
        "list(dl)"
      ]
    },
    {
      "cell_type": "code",
      "execution_count": null,
      "metadata": {
        "id": "mODxIMR7lY3I"
      },
      "outputs": [],
      "source": [
        "ds = L(enumerate(string.ascii_lowercase))\n",
        "ds"
      ]
    },
    {
      "cell_type": "code",
      "execution_count": null,
      "metadata": {
        "id": "KPw_OZlAlY3I"
      },
      "outputs": [],
      "source": [
        "dl = DataLoader(ds, batch_size=6, shuffle=True)\n",
        "list(dl)"
      ]
    },
    {
      "cell_type": "markdown",
      "metadata": {
        "id": "f9gmf4U5lY3I"
      },
      "source": [
        "## Putting It All Together"
      ]
    },
    {
      "cell_type": "code",
      "execution_count": null,
      "metadata": {
        "id": "vWZ57OmklY3J"
      },
      "outputs": [],
      "source": [
        "weights = init_params((28*28,1))\n",
        "bias = init_params(1)"
      ]
    },
    {
      "cell_type": "code",
      "execution_count": null,
      "metadata": {
        "id": "crgWdXITlY3J"
      },
      "outputs": [],
      "source": [
        "dl = DataLoader(dset, batch_size=256)\n",
        "xb,yb = first(dl)\n",
        "xb.shape,yb.shape"
      ]
    },
    {
      "cell_type": "code",
      "execution_count": null,
      "metadata": {
        "id": "BkVmAte2lY3J"
      },
      "outputs": [],
      "source": [
        "valid_dl = DataLoader(valid_dset, batch_size=256)"
      ]
    },
    {
      "cell_type": "code",
      "execution_count": null,
      "metadata": {
        "id": "vYfrhjaflY3K"
      },
      "outputs": [],
      "source": [
        "batch = train_x[:4]\n",
        "batch.shape"
      ]
    },
    {
      "cell_type": "code",
      "execution_count": null,
      "metadata": {
        "id": "Cc8z6FwmlY3K"
      },
      "outputs": [],
      "source": [
        "preds = linear1(batch)\n",
        "preds"
      ]
    },
    {
      "cell_type": "code",
      "execution_count": null,
      "metadata": {
        "id": "nF8mmTB-lY3L"
      },
      "outputs": [],
      "source": [
        "loss = mnist_loss(preds, train_y[:4])\n",
        "loss"
      ]
    },
    {
      "cell_type": "code",
      "execution_count": null,
      "metadata": {
        "id": "GPfEcQ9blY3L"
      },
      "outputs": [],
      "source": [
        "loss.backward()\n",
        "weights.grad.shape,weights.grad.mean(),bias.grad"
      ]
    },
    {
      "cell_type": "code",
      "execution_count": null,
      "metadata": {
        "id": "Ui43OJdIlY3M"
      },
      "outputs": [],
      "source": [
        "def calc_grad(xb, yb, model):\n",
        "    preds = model(xb)\n",
        "    loss = mnist_loss(preds, yb)\n",
        "    loss.backward()"
      ]
    },
    {
      "cell_type": "code",
      "execution_count": null,
      "metadata": {
        "id": "gHvsxs29lY3M"
      },
      "outputs": [],
      "source": [
        "calc_grad(batch, train_y[:4], linear1)\n",
        "weights.grad.mean(),bias.grad"
      ]
    },
    {
      "cell_type": "code",
      "execution_count": null,
      "metadata": {
        "id": "y4f3MgEnlY3N"
      },
      "outputs": [],
      "source": [
        "calc_grad(batch, train_y[:4], linear1)\n",
        "weights.grad.mean(),bias.grad"
      ]
    },
    {
      "cell_type": "code",
      "execution_count": null,
      "metadata": {
        "id": "qUAC8Gw2lY3N"
      },
      "outputs": [],
      "source": [
        "weights.grad.zero_()\n",
        "bias.grad.zero_();"
      ]
    },
    {
      "cell_type": "code",
      "execution_count": null,
      "metadata": {
        "id": "OCdLHGE0lY3N"
      },
      "outputs": [],
      "source": [
        "def train_epoch(model, lr, params):\n",
        "    for xb,yb in dl:\n",
        "        calc_grad(xb, yb, model)\n",
        "        for p in params:\n",
        "            p.data -= p.grad*lr\n",
        "            p.grad.zero_()"
      ]
    },
    {
      "cell_type": "code",
      "execution_count": null,
      "metadata": {
        "id": "sy0wwL3YlY3O"
      },
      "outputs": [],
      "source": [
        "(preds>0.0).float() == train_y[:4]"
      ]
    },
    {
      "cell_type": "code",
      "execution_count": null,
      "metadata": {
        "id": "GYy0mLFelY3O"
      },
      "outputs": [],
      "source": [
        "def batch_accuracy(xb, yb):\n",
        "    preds = xb.sigmoid()\n",
        "    correct = (preds>0.5) == yb\n",
        "    return correct.float().mean()"
      ]
    },
    {
      "cell_type": "code",
      "execution_count": null,
      "metadata": {
        "id": "2pJduAuNlY3P"
      },
      "outputs": [],
      "source": [
        "batch_accuracy(linear1(batch), train_y[:4])"
      ]
    },
    {
      "cell_type": "code",
      "execution_count": null,
      "metadata": {
        "id": "mAatEqFslY3P"
      },
      "outputs": [],
      "source": [
        "def validate_epoch(model):\n",
        "    accs = [batch_accuracy(model(xb), yb) for xb,yb in valid_dl]\n",
        "    return round(torch.stack(accs).mean().item(), 4)"
      ]
    },
    {
      "cell_type": "code",
      "execution_count": null,
      "metadata": {
        "id": "rkXcLoBHlY3Q"
      },
      "outputs": [],
      "source": [
        "validate_epoch(linear1)"
      ]
    },
    {
      "cell_type": "code",
      "execution_count": null,
      "metadata": {
        "id": "z5KFs9N3lY3Q"
      },
      "outputs": [],
      "source": [
        "lr = 1.\n",
        "params = weights,bias\n",
        "train_epoch(linear1, lr, params)\n",
        "validate_epoch(linear1)"
      ]
    },
    {
      "cell_type": "code",
      "execution_count": null,
      "metadata": {
        "id": "JX9FPupZlY3R"
      },
      "outputs": [],
      "source": [
        "for i in range(20):\n",
        "    train_epoch(linear1, lr, params)\n",
        "    print(validate_epoch(linear1), end=' ')"
      ]
    },
    {
      "cell_type": "markdown",
      "metadata": {
        "id": "Y-iyo3R4lY3R"
      },
      "source": [
        "### Creating an Optimizer"
      ]
    },
    {
      "cell_type": "code",
      "execution_count": null,
      "metadata": {
        "id": "74NWHevElY3S"
      },
      "outputs": [],
      "source": [
        "linear_model = nn.Linear(28*28,1)"
      ]
    },
    {
      "cell_type": "code",
      "execution_count": null,
      "metadata": {
        "id": "fdOak87tlY3S"
      },
      "outputs": [],
      "source": [
        "w,b = linear_model.parameters()\n",
        "w.shape,b.shape"
      ]
    },
    {
      "cell_type": "code",
      "execution_count": null,
      "metadata": {
        "id": "uyPNsz2ZlY3T"
      },
      "outputs": [],
      "source": [
        "class BasicOptim:\n",
        "    def __init__(self,params,lr): self.params,self.lr = list(params),lr\n",
        "\n",
        "    def step(self, *args, **kwargs):\n",
        "        for p in self.params: p.data -= p.grad.data * self.lr\n",
        "\n",
        "    def zero_grad(self, *args, **kwargs):\n",
        "        for p in self.params: p.grad = None"
      ]
    },
    {
      "cell_type": "code",
      "execution_count": null,
      "metadata": {
        "id": "fbt1oRUblY3T"
      },
      "outputs": [],
      "source": [
        "opt = BasicOptim(linear_model.parameters(), lr)"
      ]
    },
    {
      "cell_type": "code",
      "execution_count": null,
      "metadata": {
        "id": "D7DM0o9OlY3U"
      },
      "outputs": [],
      "source": [
        "def train_epoch(model):\n",
        "    for xb,yb in dl:\n",
        "        calc_grad(xb, yb, model)\n",
        "        opt.step()\n",
        "        opt.zero_grad()"
      ]
    },
    {
      "cell_type": "code",
      "execution_count": null,
      "metadata": {
        "id": "xiD8faBGlY3U"
      },
      "outputs": [],
      "source": [
        "validate_epoch(linear_model)"
      ]
    },
    {
      "cell_type": "code",
      "execution_count": null,
      "metadata": {
        "id": "f9ndo-K6lY3V"
      },
      "outputs": [],
      "source": [
        "def train_model(model, epochs):\n",
        "    for i in range(epochs):\n",
        "        train_epoch(model)\n",
        "        print(validate_epoch(model), end=' ')"
      ]
    },
    {
      "cell_type": "code",
      "execution_count": null,
      "metadata": {
        "id": "WMhkDSallY3V"
      },
      "outputs": [],
      "source": [
        "train_model(linear_model, 20)"
      ]
    },
    {
      "cell_type": "code",
      "execution_count": null,
      "metadata": {
        "id": "sDuCm2oylY3X"
      },
      "outputs": [],
      "source": [
        "linear_model = nn.Linear(28*28,1)\n",
        "opt = SGD(linear_model.parameters(), lr)\n",
        "train_model(linear_model, 20)"
      ]
    },
    {
      "cell_type": "code",
      "execution_count": null,
      "metadata": {
        "id": "cBo-Qmn6lY3X"
      },
      "outputs": [],
      "source": [
        "dls = DataLoaders(dl, valid_dl)"
      ]
    },
    {
      "cell_type": "code",
      "execution_count": null,
      "metadata": {
        "id": "eODb-_uWlY3Y"
      },
      "outputs": [],
      "source": [
        "learn = Learner(dls, nn.Linear(28*28,1), opt_func=SGD,\n",
        "                loss_func=mnist_loss, metrics=batch_accuracy)"
      ]
    },
    {
      "cell_type": "code",
      "execution_count": null,
      "metadata": {
        "id": "E_aq1KorlY3Y"
      },
      "outputs": [],
      "source": [
        "learn.fit(10, lr=lr)"
      ]
    },
    {
      "cell_type": "markdown",
      "metadata": {
        "id": "jrJb22V5lY3Z"
      },
      "source": [
        "## Adding a Nonlinearity"
      ]
    },
    {
      "cell_type": "code",
      "execution_count": null,
      "metadata": {
        "id": "JVdMTh-7lY3Z"
      },
      "outputs": [],
      "source": [
        "def simple_net(xb):\n",
        "    res = xb@w1 + b1\n",
        "    res = res.max(tensor(0.0))\n",
        "    res = res@w2 + b2\n",
        "    return res"
      ]
    },
    {
      "cell_type": "code",
      "execution_count": null,
      "metadata": {
        "id": "0MfZ7Z6AlY3Z"
      },
      "outputs": [],
      "source": [
        "w1 = init_params((28*28,30))\n",
        "b1 = init_params(30)\n",
        "w2 = init_params((30,1))\n",
        "b2 = init_params(1)"
      ]
    },
    {
      "cell_type": "code",
      "execution_count": null,
      "metadata": {
        "id": "paCMSuAClY3a"
      },
      "outputs": [],
      "source": [
        "plot_function(F.relu)"
      ]
    },
    {
      "cell_type": "code",
      "execution_count": null,
      "metadata": {
        "id": "9nkCz8lilY3a"
      },
      "outputs": [],
      "source": [
        "simple_net = nn.Sequential(\n",
        "    nn.Linear(28*28,30),\n",
        "    nn.ReLU(),\n",
        "    nn.Linear(30,1)\n",
        ")"
      ]
    },
    {
      "cell_type": "code",
      "execution_count": null,
      "metadata": {
        "id": "tzJuo1palY3b"
      },
      "outputs": [],
      "source": [
        "learn = Learner(dls, simple_net, opt_func=SGD,\n",
        "                loss_func=mnist_loss, metrics=batch_accuracy)"
      ]
    },
    {
      "cell_type": "code",
      "execution_count": null,
      "metadata": {
        "id": "fTCA7p3hlY3b"
      },
      "outputs": [],
      "source": [
        "learn.fit(40, 0.1)"
      ]
    },
    {
      "cell_type": "code",
      "execution_count": null,
      "metadata": {
        "id": "TG0j5U2wlY3c"
      },
      "outputs": [],
      "source": [
        "plt.plot(L(learn.recorder.values).itemgot(2));"
      ]
    },
    {
      "cell_type": "code",
      "execution_count": null,
      "metadata": {
        "id": "Sr01gCsmlY3c"
      },
      "outputs": [],
      "source": [
        "learn.recorder.values[-1][2]"
      ]
    },
    {
      "cell_type": "markdown",
      "metadata": {
        "id": "tUJw3cz3lY3d"
      },
      "source": [
        "### Going Deeper"
      ]
    },
    {
      "cell_type": "code",
      "execution_count": null,
      "metadata": {
        "id": "ZBCmkN5tlY3d"
      },
      "outputs": [],
      "source": [
        "dls = ImageDataLoaders.from_folder(path)\n",
        "learn = vision_learner(dls, resnet18, pretrained=False,\n",
        "                    loss_func=F.cross_entropy, metrics=accuracy)\n",
        "learn.fit_one_cycle(1, 0.1)"
      ]
    },
    {
      "cell_type": "markdown",
      "metadata": {
        "id": "-PKzP8B0lY3d"
      },
      "source": [
        "## Jargon Recap"
      ]
    },
    {
      "cell_type": "markdown",
      "metadata": {
        "id": "vVarQdL0lY3e"
      },
      "source": [
        "## Questionnaire"
      ]
    },
    {
      "cell_type": "markdown",
      "metadata": {
        "id": "9dIH1CYglY3e"
      },
      "source": [
        "1. How is a grayscale image represented on a computer? How about a color image?\n",
        "\n",
        "  A: A grayscale image is represented as the middle numbers between 0 and 255, where 0's are whites and 255 are blacks. Color images are most commom represented as RGP (Red, Green, Blue) where which pixel is represented as a combination of the three color.\n",
        "1. How are the files and folders in the `MNIST_SAMPLE` dataset structured? Why?\n",
        "\n",
        "  A: The files and folders in the MNIST_SAMPLE dataset are structured as follows:\n",
        "\n",
        "  1. Root Directory:\n",
        "\n",
        "    - **train**: This directory contains the training dataset.\n",
        "    - **valid**: This directory contains the validation dataset.\n",
        "    - **labels.csv**: This file contains the labels for the training and validation datasets.\n",
        "\n",
        "  2. **train** and **valid** Directories:\n",
        "\n",
        "  These directories contain the actual image data for training and validation. The images are typically organized into subdirectories based on their class labels.\n",
        "\n",
        "  3. **labels.csv**:\n",
        "\n",
        "  This CSV (Comma-Separated Values) file contains the labels for the training and validation datasets. It maps the filenames of the images to their corresponding class labels (digits 0 through 9). The labels are typically stored in two columns: one for the filename and another for the corresponding label.\n",
        "\n",
        "  The reason for this structure is to facilitate the organization and access to the dataset for machine learning and deep learning tasks.\n",
        "\n",
        "1. Explain how the \"pixel similarity\" approach to classifying digits works.\n",
        "\n",
        "  A: Using the book example, we find the average pixel value for every pixel of the 3s, then do the same for the 7s. This will give us two group averages, defining what we might call the \"ideal\" 3 and 7. Then, to classify an image as one digit or the other, we see which of these two ideal digits the image is most similar to.\n",
        "1. What is a list comprehension? Create one now that selects odd numbers from a list and doubles them.\n",
        "\n",
        "  A: A list comprehension looks like this: `new_list = [f(o) for o in a_list if o>0]`. This will return every element of `a_list` that is greater than 0, after passing it to the function `f`. There are three parts here: the collection you are iterating over (`a_list`), an optional filter (`if o>0`), and something to do to each element (`f(o)`). It's not only shorter to write but way faster than the alternative ways of creating the same list with a loop.\n",
        "\n"
      ]
    },
    {
      "cell_type": "code",
      "source": [
        "import random\n",
        "\n",
        "l = [1, 2, 3, 4, 5, 6, 7, 8, 9, 10]\n",
        "new_l = [n * 2 for n in l if n % 2 != 0]\n",
        "print(new_l)"
      ],
      "metadata": {
        "id": "nSlcgbzxQuoS",
        "outputId": "3f303a94-f558-4ad5-8665-d30b21cb334a",
        "colab": {
          "base_uri": "https://localhost:8080/"
        }
      },
      "execution_count": null,
      "outputs": [
        {
          "output_type": "stream",
          "name": "stdout",
          "text": [
            "[2, 6, 10, 14, 18]\n"
          ]
        }
      ]
    },
    {
      "cell_type": "markdown",
      "source": [
        "5. What is a \"rank-3 tensor\"?\n",
        "\n",
        "  A: For every pixel position, we want to compute the average over all the images of the intensity of that pixel. To do this we first combine all the images in this list into a single three-dimensional tensor. The most common way to describe such a tensor is to call it a *rank-3 tensor*.\n",
        "\n",
        "1. What is the difference between tensor rank and shape? How do you get the rank from the shape?\n",
        "\n",
        "  A: _rank_ is the number of axes or dimensions in a tensor; _shape_ is the size of each axis of a tensor.\n",
        "  he *length* of a tensor's shape is its rank and it can be calculated using the following ways:\n",
        "  - len(stacked_threes.shape)\n",
        "  - stacked_threes.ndim\n",
        "\n",
        "1. What are RMSE and L1 norm?\n",
        "\n",
        "  A: RMSE stands for *root mean squared error* and is also known as *L2 norm* This is mean of the *square* of differences (which makes everything positive) and then take the *square root* (which undoes the squaring).\n",
        "\n",
        "  *L1 norm* is the *mean absolute difference* which means it take the mean of the *absolute value* of differences (absolute value is the function that replaces negative values with positive values).\n",
        "\n",
        "1. How can you apply a calculation on thousands of numbers at once, many thousands of times faster than a Python loop?\n",
        "\n",
        "  A: Using **NumPy arrays and PyTorch tensors can finish computations many thousands of times faster than using pure Python.**\n",
        "\n",
        "  A NumPy array is a multidimensional table of data, with all items of the same type. Since that can be any type at all, they can even be arrays of arrays, with the innermost arrays potentially being different sizes—this is called a \"jagged array.\" By \"multidimensional table\" we mean, for instance, a list (dimension of one), a table or matrix (dimension of two), a \"table of tables\" or \"cube\" (dimension of three), and so forth. If the items are all of some simple type such as integer or float, then NumPy will store them as a compact C data structure in memory. This is where NumPy shines. NumPy has a wide variety of operators and methods that can run computations on these compact structures at the same speed as optimized C, because they are written in optimized C.\n",
        "\n",
        "  A PyTorch tensor is nearly the same thing as a NumPy array, but with an additional restriction that unlocks some additional capabilities. It's the same in that it, too, is a multidimensional table of data, with all items of the same type. However, the restriction is that a tensor cannot use just any old type—it has to use a single basic numeric type for all components. For example, a PyTorch tensor cannot be jagged. It is always a regularly shaped multidimensional rectangular structure.\n",
        "\n",
        "1. Create a 3×3 tensor or array containing the numbers from 1 to 9. Double it. Select the bottom-right four numbers."
      ],
      "metadata": {
        "id": "TJN5nmWDQeaQ"
      }
    },
    {
      "cell_type": "code",
      "source": [
        "data = [[1,2,3],[4,5,6]]\n",
        "tns = tensor(data)\n",
        "tns *= 2\n",
        "tns[:, 1:]"
      ],
      "metadata": {
        "colab": {
          "base_uri": "https://localhost:8080/"
        },
        "id": "b54x5ZjBc5jy",
        "outputId": "e8942acc-cec8-4c7c-b5be-6a3cf8aeaab4"
      },
      "execution_count": null,
      "outputs": [
        {
          "output_type": "execute_result",
          "data": {
            "text/plain": [
              "tensor([[ 4,  6],\n",
              "        [10, 12]])"
            ]
          },
          "metadata": {},
          "execution_count": 14
        }
      ]
    },
    {
      "cell_type": "markdown",
      "source": [
        "10. What is broadcasting?\n",
        "\n",
        "  A: When performing operations between tensors of different ranks, broadiscasting automatically expand the tensor with the smaller rank to have the same size as the one with the larger rank. Broadcasting is an important capability that makes tensor code much easier to write.\n",
        "\n",
        "1. Are metrics generally calculated using the training set, or the validation set? Why?\n",
        "\n",
        "  A: Validation set. This is so that we don't inadvertently overfit our model, that is, train a model to work well only on our training data.\n",
        "\n",
        "1. What is SGD?\n",
        "\n",
        "  A:\n",
        "\n",
        "1. Why does SGD use mini-batches?\n",
        "\n",
        "  A:\n",
        "\n",
        "1. What are the seven steps in SGD for machine learning?\n",
        "\n",
        "  A:\n",
        "\n",
        "1. How do we initialize the weights in a model?\n",
        "\n",
        "  A:\n",
        "\n",
        "1. What is \"loss\"?\n",
        "\n",
        "  A:\n",
        "\n",
        "1. Why can't we always use a high learning rate?\n",
        "\n",
        "  A:\n",
        "\n",
        "1. What is a \"gradient\"?\n",
        "\n",
        "  A:\n",
        "\n",
        "1. Do you need to know how to calculate gradients yourself?\n",
        "\n",
        "  A:\n",
        "\n",
        "1. Why can't we use accuracy as a loss function?\n",
        "\n",
        "  A:\n",
        "\n",
        "1. Draw the sigmoid function. What is special about its shape?\n",
        "\n",
        "  A:\n",
        "\n",
        "1. What is the difference between a loss function and a metric?\n",
        "\n",
        "  A:\n",
        "\n",
        "1. What is the function to calculate new weights using a learning rate?\n",
        "\n",
        "  A:\n",
        "\n",
        "1. What does the `DataLoader` class do?\n",
        "\n",
        "  A:\n",
        "\n",
        "1. Write pseudocode showing the basic steps taken in each epoch for SGD.\n",
        "\n",
        "  A:\n",
        "\n",
        "1. Create a function that, if passed two arguments `[1,2,3,4]` and `'abcd'`, returns `[(1, 'a'), (2, 'b'), (3, 'c'), (4, 'd')]`. What is special about that output data structure?\n",
        "\n",
        "  A:\n",
        "\n",
        "1. What does `view` do in PyTorch?\n",
        "\n",
        "  A:\n",
        "\n",
        "1. What are the \"bias\" parameters in a neural network? Why do we need them?\n",
        "\n",
        "  A:\n",
        "\n",
        "1. What does the `@` operator do in Python?\n",
        "\n",
        "  A:\n",
        "\n",
        "1. What does the `backward` method do?\n",
        "\n",
        "  A:\n",
        "\n",
        "1. Why do we have to zero the gradients?\n",
        "\n",
        "  A:\n",
        "\n",
        "1. What information do we have to pass to `Learner`?\n",
        "\n",
        "  A:\n",
        "\n",
        "1. Show Python or pseudocode for the basic steps of a training loop.\n",
        "\n",
        "  A:\n",
        "\n",
        "1. What is \"ReLU\"? Draw a plot of it for values from `-2` to `+2`.\n",
        "\n",
        "  A:\n",
        "\n",
        "1. What is an \"activation function\"?\n",
        "\n",
        "  A:\n",
        "\n",
        "1. What's the difference between `F.relu` and `nn.ReLU`?\n",
        "\n",
        "  A:\n",
        "\n",
        "1. The universal approximation theorem shows that any function can be approximated as closely as needed using just one nonlinearity. So why do we normally use more?\n",
        "\n",
        "  A:"
      ],
      "metadata": {
        "id": "T4HFaYjdc58V"
      }
    },
    {
      "cell_type": "markdown",
      "metadata": {
        "id": "ruJsRGGNlY3g"
      },
      "source": [
        "### Further Research"
      ]
    },
    {
      "cell_type": "markdown",
      "metadata": {
        "id": "kBWrLuawlY3h"
      },
      "source": [
        "1. Create your own implementation of `Learner` from scratch, based on the training loop shown in this chapter.\n",
        "1. Complete all the steps in this chapter using the full MNIST datasets (that is, for all digits, not just 3s and 7s). This is a significant project and will take you quite a bit of time to complete! You'll need to do some of your own research to figure out how to overcome some obstacles you'll meet on the way."
      ]
    }
  ],
  "metadata": {
    "jupytext": {
      "split_at_heading": true
    },
    "kernelspec": {
      "display_name": "Python 3",
      "name": "python3"
    },
    "colab": {
      "provenance": [],
      "gpuType": "T4"
    },
    "accelerator": "GPU"
  },
  "nbformat": 4,
  "nbformat_minor": 0
}